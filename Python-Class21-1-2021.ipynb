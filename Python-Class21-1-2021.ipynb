{
 "cells": [
  {
   "cell_type": "markdown",
   "metadata": {},
   "source": [
    "# Python Class 21/01/2021"
   ]
  },
  {
   "cell_type": "markdown",
   "metadata": {},
   "source": [
    "pg:142 \n",
    "8-7. Album: Write a function called make_album() that builds a dictionary describing a music album. The function should take in an artist name and an album title, and it should return a dictionary containing these two pieces of information. Use the function to make three dictionaries representing different albums. Print each return value to show that the dictionaries are storing the album information correctly."
   ]
  },
  {
   "cell_type": "code",
   "execution_count": 1,
   "metadata": {},
   "outputs": [],
   "source": [
    "def make_album(artist_name,album_title):\n",
    "    music_album = {\"artist_name\":artist_name,\"album_title\":album_title}\n",
    "    return music_album\n",
    "    \n",
    "    "
   ]
  },
  {
   "cell_type": "code",
   "execution_count": 2,
   "metadata": {},
   "outputs": [
    {
     "name": "stdout",
     "output_type": "stream",
     "text": [
      "{'artist_name': 'Atif Aslam', 'album_title': 'Wo Lamhe'}\n",
      "{'artist_name': 'Mr A', 'album_title': 'ABC'}\n",
      "{'artist_name': 'Mr Z', 'album_title': 'XYZ'}\n"
     ]
    }
   ],
   "source": [
    "album1 =  make_album(\"Atif Aslam\",\"Wo Lamhe\")\n",
    "album2 = make_album(\"Mr A\",\"ABC\")\n",
    "album3 = make_album(\"Mr Z\",\"XYZ\")\n",
    "print(album1)\n",
    "print(album2)\n",
    "print(album3)"
   ]
  },
  {
   "cell_type": "code",
   "execution_count": 7,
   "metadata": {},
   "outputs": [
    {
     "name": "stdout",
     "output_type": "stream",
     "text": [
      "{'artist_name': 'Atif Aslam', 'album_title': 'Wo Lamhe', 'tracks': 12}\n",
      "{'artist_name': 'Mr A', 'album_title': 'ABC'}\n",
      "{'artist_name': 'Mr Z', 'album_title': 'XYZ'}\n"
     ]
    }
   ],
   "source": [
    "def make_album(artist_name,album_title,tracks =''):\n",
    "    music_album = {\"artist_name\":artist_name,\"album_title\":album_title}\n",
    "    if tracks:          #agr value hai to chale ga warna nhi chale ga\n",
    "        music_album['tracks'] = tracks\n",
    "    return music_album\n",
    " #end of function\n",
    "album1 = make_album(\"Atif Aslam\",\"Wo Lamhe\", 12)      # isme track ki value hai\n",
    "album2 = make_album(\"Mr A\",\"ABC\")                     # isme track ki value nhi hai\n",
    "album3 = make_album(\"Mr Z\",\"XYZ\")                     # isme track ki value nhi hai\n",
    "print(album1)\n",
    "print(album2)\n",
    "print(album3)\n"
   ]
  },
  {
   "cell_type": "markdown",
   "metadata": {},
   "source": [
    "8-8. User Albums: Start with your program from Exercise 8-7. Write a while loop that allows users to enter an album’s artist and title. Once you have that information, call make_album() with the user’s input and print the dictionary that’s created. Be sure to include a quit value in the while loop."
   ]
  },
  {
   "cell_type": "code",
   "execution_count": 15,
   "metadata": {},
   "outputs": [
    {
     "name": "stdout",
     "output_type": "stream",
     "text": [
      "Enter Artist Name or Press q to exit a1\n",
      "Enter Album Title or Press q to exit al1\n",
      "Enter Track Number or Press q to exit10\n",
      "Enter Artist Name or Press q to exit q\n",
      "{'artist_name': 'a1', 'album_title': 'al1', 'tracks': 10}\n"
     ]
    }
   ],
   "source": [
    "def make_album(artist,title,tracks =''):\n",
    "    music_album = {\"artist_name\":artist,\"album_title\":title}\n",
    "    if tracks:          #agr value hai to chale ga warna nhi chale ga\n",
    "        music_album['tracks'] = tracks\n",
    "    return music_album\n",
    "while True:\n",
    "    artist = input(\"Enter Artist Name or Press q to exit \")\n",
    "    if artist == 'q':\n",
    "        break\n",
    "    title = input(\"Enter Album Title or Press q to exit \")\n",
    "    if title == 'q':\n",
    "        break\n",
    "    tracks = int(input(\"Enter Track Number or Press q to exit\"))\n",
    "    if tracks =='q':\n",
    "        break\n",
    "\n",
    "  \n",
    "    album = make_album(artist,title,tracks)\n",
    "print(album)\n",
    " #end of function"
   ]
  },
  {
   "cell_type": "markdown",
   "metadata": {},
   "source": [
    "# Salary Calculator"
   ]
  },
  {
   "cell_type": "code",
   "execution_count": 8,
   "metadata": {},
   "outputs": [],
   "source": [
    "#Salary Calculator\n",
    "def salaryCalc(basic_salary):\n",
    "    tax_ded = taxCalc(basic_salary)\n",
    "    gross_salary = basic_salary - tax_ded\n",
    "    return gross_salary"
   ]
  },
  {
   "cell_type": "code",
   "execution_count": 9,
   "metadata": {},
   "outputs": [],
   "source": [
    "#tax calculate krega or phr salary calculator me call hoga\n",
    "def taxCalc(basic_salary):\n",
    "    tax_deduction = 0\n",
    "    if basic_salary < 30000:\n",
    "        tax_deduction = 0\n",
    "    elif basic_salary > 30000 and basic_salary < 50000:\n",
    "        tax_deduction = 5\n",
    "    elif basic_salary >= 50000 and basic_salary < 100000:\n",
    "        tax_deduction = 10\n",
    "    else:\n",
    "        tax_deduction = 15\n",
    "    total_tax = basic_salary*tax_deduction/100\n",
    "    return total_tax"
   ]
  },
  {
   "cell_type": "code",
   "execution_count": 11,
   "metadata": {},
   "outputs": [],
   "source": [
    "#Commission funtion \n",
    "def commission(basic_salary):\n",
    "    pass\n",
    "    \n",
    "    "
   ]
  },
  {
   "cell_type": "code",
   "execution_count": 10,
   "metadata": {},
   "outputs": [
    {
     "name": "stdout",
     "output_type": "stream",
     "text": [
      "Enter the Basic Salary of the Employee : 50000\n",
      "The gross salary of the Employee is : 45000.0\n"
     ]
    }
   ],
   "source": [
    "basic_salary = int( input(\"Enter the Basic Salary of the Employee : \"))\n",
    "gross_salary= salaryCalc(basic_salary)\n",
    "print(f\"The gross salary of the Employee is : {gross_salary}\")"
   ]
  },
  {
   "cell_type": "code",
   "execution_count": null,
   "metadata": {},
   "outputs": [],
   "source": []
  }
 ],
 "metadata": {
  "kernelspec": {
   "display_name": "Python 3",
   "language": "python",
   "name": "python3"
  }
 },
 "nbformat": 4,
 "nbformat_minor": 4
}
