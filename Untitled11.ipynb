{
 "cells": [
  {
   "cell_type": "code",
   "execution_count": null,
   "metadata": {},
   "outputs": [],
   "source": [
    "def num():\n",
    "    no = int(input(\"Enter any number: \"))\n",
    "    if (no % 2 == 0):\n",
    "        print(\"Number is even\")\n",
    "    else: \n",
    "        print(\"Number is odd \")\n",
    "    ter = input(\"If you want to close it. YES | NO: \").lower()\n",
    "    if (ter == 'no'):\n",
    "        num()\n",
    "num()"
   ]
  },
  {
   "cell_type": "code",
   "execution_count": null,
   "metadata": {},
   "outputs": [],
   "source": [
    "def guess_even_odd():\n",
    "    while(True):\n",
    "        number = input(\"any number or q to exit: \")\n",
    "        if number != 'q':\n",
    "            if (int(number)%2 == 0):\n",
    "                print(\"Its even\")\n",
    "            else:\n",
    "                print(\"Its odd\")\n",
    "        else:\n",
    "            break\n",
    "guess_even_odd()"
   ]
  },
  {
   "cell_type": "markdown",
   "metadata": {},
   "source": [
    "Write a program which will find all such numbers which are divisible by 7 but are not a multiple of 5,\n",
    "between 2000 and 3200 (both included).\n",
    "The numbers obtained should be printed in a comma-separated sequence on a single line."
   ]
  },
  {
   "cell_type": "code",
   "execution_count": null,
   "metadata": {},
   "outputs": [],
   "source": [
    "for no in range(2000,3201):\n",
    "    if no%7 ==0:\n",
    "        if no%5 !=0:\n",
    "            print(no, end= ',')"
   ]
  },
  {
   "cell_type": "markdown",
   "metadata": {},
   "source": [
    "With a given integral number n, write a program to generate a dictionary that contains (i, i*i) such that is an integral number between 1 and n (both included). and then the program should print the dictionary.\n",
    "Suppose the following input is supplied to the program:\n",
    "8\n",
    "Then, the output should be:\n",
    "{1: 1, 2: 4, 3: 9, 4: 16, 5: 25, 6: 36, 7: 49, 8: 64}"
   ]
  },
  {
   "cell_type": "code",
   "execution_count": null,
   "metadata": {},
   "outputs": [],
   "source": [
    "\n",
    "adic = {}\n",
    "n = int(input())\n",
    "for nos in range(1,n+ 1):\n",
    "    adic[nos] = n*n\n",
    "    \n"
   ]
  },
  {
   "cell_type": "code",
   "execution_count": null,
   "metadata": {},
   "outputs": [],
   "source": [
    "adic"
   ]
  },
  {
   "cell_type": "code",
   "execution_count": null,
   "metadata": {},
   "outputs": [],
   "source": [
    "#Global vs local\n",
    "\n",
    "#function starts\n",
    "def global_local():\n",
    "    global n1\n",
    "    n2 = 'its local variable'\n",
    "#functions ends\n",
    "\n",
    "n1 = 'its global variable'\n",
    "print(n1)\n",
    "# print(n2)                          # error come up that n2 is not defined"
   ]
  },
  {
   "cell_type": "markdown",
   "metadata": {},
   "source": [
    "# Return"
   ]
  },
  {
   "cell_type": "code",
   "execution_count": null,
   "metadata": {},
   "outputs": [],
   "source": [
    "def adding():\n",
    "    num1 =int( input(\"First no: \"))\n",
    "    num2 =int( input(\"Second no: \"))\n",
    "    res = num1 + num2\n",
    "    print(res)\n",
    "adding()"
   ]
  },
  {
   "cell_type": "code",
   "execution_count": null,
   "metadata": {},
   "outputs": [],
   "source": [
    "adding()"
   ]
  },
  {
   "cell_type": "code",
   "execution_count": null,
   "metadata": {},
   "outputs": [],
   "source": []
  },
  {
   "cell_type": "code",
   "execution_count": null,
   "metadata": {},
   "outputs": [],
   "source": []
  }
 ],
 "metadata": {
  "kernelspec": {
   "display_name": "Python 3",
   "language": "python",
   "name": "python3"
  }
 },
 "nbformat": 4,
 "nbformat_minor": 4
}
