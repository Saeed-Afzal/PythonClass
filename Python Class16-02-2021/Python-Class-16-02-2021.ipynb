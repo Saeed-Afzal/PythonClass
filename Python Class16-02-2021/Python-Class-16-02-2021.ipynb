{
 "cells": [
  {
   "cell_type": "code",
   "execution_count": 1,
   "metadata": {},
   "outputs": [],
   "source": [
    "#Python Class 16-02-2021"
   ]
  },
  {
   "cell_type": "code",
   "execution_count": 2,
   "metadata": {},
   "outputs": [],
   "source": [
    "#Central Tendency\n",
    "#Mean: Average dega\n",
    "#Median : Sort kr k mid value dega\n",
    "#Mode: sb se ziada repeatition wali value dega\n",
    "#Variance: Mean(central value) value se kitne door hai\n",
    "#Standard Variation: Variance ka square root le lete hain"
   ]
  },
  {
   "cell_type": "code",
   "execution_count": 3,
   "metadata": {},
   "outputs": [],
   "source": [
    "#Bi Variant Deviation\n",
    "#Co Variance\n",
    "#Co Relation"
   ]
  },
  {
   "cell_type": "code",
   "execution_count": 4,
   "metadata": {},
   "outputs": [],
   "source": [
    " #CoVariance ki jo numerical value k sath jo sign hai wo important hai\n",
    "#positive: dono agay jaengay ya done peeche jaengay\n",
    "#negative: ek bhare ga to ek km hoga\n",
    "\n",
    "#Corelation ki value -1 se +1 tk hogi\n",
    "#uski strenght b btata hai\n",
    "#week hai ya strong hai"
   ]
  },
  {
   "cell_type": "code",
   "execution_count": null,
   "metadata": {},
   "outputs": [],
   "source": []
  }
 ],
 "metadata": {
  "kernelspec": {
   "display_name": "Python 3",
   "language": "python",
   "name": "python3"
  },
  "language_info": {
   "codemirror_mode": {
    "name": "ipython",
    "version": 3
   },
   "file_extension": ".py",
   "mimetype": "text/x-python",
   "name": "python",
   "nbconvert_exporter": "python",
   "pygments_lexer": "ipython3",
   "version": "3.7.6"
  }
 },
 "nbformat": 4,
 "nbformat_minor": 4
}
