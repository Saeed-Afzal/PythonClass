{
 "cells": [
  {
   "cell_type": "code",
   "execution_count": 1,
   "metadata": {},
   "outputs": [],
   "source": [
    "#Python Class 28/01/2021"
   ]
  },
  {
   "cell_type": "code",
   "execution_count": 15,
   "metadata": {},
   "outputs": [
    {
     "name": "stdout",
     "output_type": "stream",
     "text": [
      "Enter a Number\n",
      "Yahooinvalid literal for int() with base 10: ''\n",
      "Kuch b hojae ye chale ga!\n",
      "Hello World\n"
     ]
    }
   ],
   "source": [
    "try:\n",
    "    a = int(input(\"Enter a Number\"))\n",
    "    b = int(input(\"Enter a Number\"))    \n",
    "    d = []\n",
    "    c = a/b\n",
    "    print(c)\n",
    "except ZeroDivisionError:\n",
    "    print(\"Exception is caught ZeroDivisionError\")\n",
    "except IndexError:\n",
    "    print(\"Yeah! I have handled that error\")\n",
    "except Exception as e:\n",
    "    print(\"Yahoo! khud btae ga k kia exception hai\" + str(e))\n",
    "else:\n",
    "    print(\"nahi i\")\n",
    "finally:\n",
    "    print(\"Kuch b hojae ye chale ga!\")\n",
    "print(\"Hello World\")\n"
   ]
  },
  {
   "cell_type": "code",
   "execution_count": null,
   "metadata": {},
   "outputs": [],
   "source": [
    "#Statistics Topics\n",
    "#CENTRAL TENDENCY\n",
    "    #mean,median, mode \n",
    "    #standard deviation\n",
    "    #Variation\n",
    "#Funnel Analysis\n",
    "#Chrm Analysis\n",
    "#AB Testing"
   ]
  }
 ],
 "metadata": {
  "kernelspec": {
   "display_name": "Python 3",
   "language": "python",
   "name": "python3"
  },
  "language_info": {
   "codemirror_mode": {
    "name": "ipython",
    "version": 3
   },
   "file_extension": ".py",
   "mimetype": "text/x-python",
   "name": "python",
   "nbconvert_exporter": "python",
   "pygments_lexer": "ipython3",
   "version": "3.8.5"
  }
 },
 "nbformat": 4,
 "nbformat_minor": 4
}
