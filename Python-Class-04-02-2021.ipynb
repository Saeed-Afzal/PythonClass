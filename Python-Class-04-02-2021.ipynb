{
 "cells": [
  {
   "cell_type": "markdown",
   "metadata": {},
   "source": [
    "# Pyhton Class 4/2/2021"
   ]
  },
  {
   "cell_type": "markdown",
   "metadata": {},
   "source": [
    "# Instances for Attributes"
   ]
  },
  {
   "cell_type": "code",
   "execution_count": 1,
   "metadata": {},
   "outputs": [],
   "source": [
    "class Car4():\n",
    "    \"\"\"A simple attempt to represent a car.\"\"\"\n",
    "    def __init__(self, make, model, year):        \n",
    "        self.make = make        \n",
    "        self.model = model        \n",
    "        self.year = year        \n",
    "        self.odometer_reading = 0            \n",
    "    def get_descriptive_name(self):        \n",
    "        long_name = str(self.year) + ' ' + self.make + ' ' + self.model        \n",
    "        return long_name.title()       \n",
    "    def read_odometer(self):        \n",
    "        print(\"This car has \" + str(self.odometer_reading) + \" miles on it.\")            \n",
    "    def update_odometer(self, mileage):        \n",
    "        if mileage >= self.odometer_reading:            \n",
    "            self.odometer_reading = mileage        \n",
    "        else:            \n",
    "            print(\"You can't roll back an odometer!\")       \n",
    "    def increment_odometer(self, miles):        \n",
    "        self.odometer_reading += miles\n",
    "    def fill_gas_tank():       \n",
    "        \"\"\"Electric cars don't have gas tanks.\"\"\"        \n",
    "        print(\"This car filling a gas tank!\")"
   ]
  },
  {
   "cell_type": "code",
   "execution_count": 53,
   "metadata": {},
   "outputs": [],
   "source": [
    " class ElectricCar4(Car4):\n",
    "        def __init__(self, make, model, year):        \n",
    "            \"\"\"Initialize attributes of the parent class.\"\"\"         \n",
    "            super().__init__(make, model, year)\n",
    "            self.battery = Battery(\"225amp\",27,\"Osaka\")\n",
    "        def describe_ecar(self):        \n",
    "            print(\"Make: \"+self.make +\"\\nDescription: \"+ self.model +\"\\nYear: \"+ str(self.year) +\"\\nAmperes: \"+ self.battery.get_amp())\n"
   ]
  },
  {
   "cell_type": "code",
   "execution_count": 54,
   "metadata": {},
   "outputs": [
    {
     "name": "stdout",
     "output_type": "stream",
     "text": [
      "Make: tesla\n",
      "Description: models\n",
      "Year: 2016\n",
      "Amperes: 225amp\n"
     ]
    }
   ],
   "source": [
    "my_tesla4 = ElectricCar4('tesla', 'models', 2016) \n",
    "my_tesla4.describe_ecar()"
   ]
  },
  {
   "cell_type": "code",
   "execution_count": 55,
   "metadata": {},
   "outputs": [],
   "source": [
    "class Battery():\n",
    "    def __init__(self,amp,plates,manuf):\n",
    "        self.amp = amp\n",
    "        self.plates = plates\n",
    "        self.manuf = manuf\n",
    "    def get_amp(self):\n",
    "        return self.amp"
   ]
  },
  {
   "cell_type": "code",
   "execution_count": 56,
   "metadata": {},
   "outputs": [
    {
     "data": {
      "text/plain": [
       "'225amp'"
      ]
     },
     "execution_count": 56,
     "metadata": {},
     "output_type": "execute_result"
    }
   ],
   "source": [
    "my_tesla4.battery.get_amp()"
   ]
  },
  {
   "cell_type": "code",
   "execution_count": 57,
   "metadata": {},
   "outputs": [
    {
     "data": {
      "text/plain": [
       "27"
      ]
     },
     "execution_count": 57,
     "metadata": {},
     "output_type": "execute_result"
    }
   ],
   "source": [
    "my_tesla4.battery.plates"
   ]
  },
  {
   "cell_type": "code",
   "execution_count": 58,
   "metadata": {},
   "outputs": [],
   "source": [
    "#page 166"
   ]
  },
  {
   "cell_type": "markdown",
   "metadata": {},
   "source": [
    "9-1. Restaurant: Make a class called Restaurant . The __init__() method for Restaurant should store two attributes: a restaurant_name and a cuisine_type . Make a method called describe_restaurant() that prints these two pieces of information, and a method called open_restaurant() that prints a message indicating that the restaurant is open ."
   ]
  },
  {
   "cell_type": "code",
   "execution_count": 76,
   "metadata": {},
   "outputs": [],
   "source": [
    "class Resturant():\n",
    "    def __init__(self,restaurant_name,cuisine_type):\n",
    "        self.restaurant_name = restaurant_name\n",
    "        self.cuisine_type = cuisine_type\n",
    "    def describe_restaurant(self): \n",
    "        print(self.restaurant_name, self.cuisine_type)\n",
    "        \n",
    "    def  open_restaurant(self):\n",
    "        print(self.restaurant_name +\" is open now\")\n",
    "        "
   ]
  },
  {
   "cell_type": "code",
   "execution_count": 77,
   "metadata": {},
   "outputs": [],
   "source": [
    "resturant1 = Resturant(\"Jama\",\"Barbique\")"
   ]
  },
  {
   "cell_type": "code",
   "execution_count": 78,
   "metadata": {},
   "outputs": [
    {
     "name": "stdout",
     "output_type": "stream",
     "text": [
      "Jama Barbique\n"
     ]
    }
   ],
   "source": [
    "resturant1.describe_restaurant()"
   ]
  },
  {
   "cell_type": "code",
   "execution_count": 79,
   "metadata": {},
   "outputs": [
    {
     "name": "stdout",
     "output_type": "stream",
     "text": [
      "Jama is open now\n"
     ]
    }
   ],
   "source": [
    "resturant1.open_restaurant()"
   ]
  },
  {
   "cell_type": "markdown",
   "metadata": {},
   "source": [
    "9-2. Three Restaurants: Start with your class from Exercise 9-1 . Create three different instances from the class, and call describe_restaurant() for each instance ."
   ]
  },
  {
   "cell_type": "code",
   "execution_count": 80,
   "metadata": {},
   "outputs": [],
   "source": [
    "r1 = Resturant(\"ABC\",\"Italian\")\n",
    "r2 = Resturant(\"DEF\",\"Chinese\")\n",
    "r3 = Resturant(\"XYZ\",\"Pakistani\")\n"
   ]
  },
  {
   "cell_type": "code",
   "execution_count": 81,
   "metadata": {},
   "outputs": [
    {
     "name": "stdout",
     "output_type": "stream",
     "text": [
      "ABC Italian\n",
      "DEF Chinese\n",
      "XYZ Pakistani\n"
     ]
    }
   ],
   "source": [
    "r1.describe_restaurant()\n",
    "r2.describe_restaurant()\n",
    "r3.describe_restaurant()"
   ]
  },
  {
   "cell_type": "markdown",
   "metadata": {},
   "source": [
    "9-3. Users: Make a class called User . Create two attributes called first_name and last_name, and then create several other attributes that are typically stored in a user profile . Make a method called describe_user() that prints a summary of the user’s information . Make another method called greet_user() that prints a personalized greeting to the user . Create several instances representing different users, and call both methods for each user ."
   ]
  },
  {
   "cell_type": "code",
   "execution_count": 93,
   "metadata": {},
   "outputs": [],
   "source": [
    "class User():\n",
    "    def __init__(self,first_name,last_name,gender,email,password):\n",
    "        self.first_name =first_name\n",
    "        self.last_name = last_name\n",
    "        self.gender = gender\n",
    "        self.email = email\n",
    "        self.password = password\n",
    "    def describe_user(self):\n",
    "        print(f\"User Name is {self.first_name}  {self.last_name}\")\n",
    "        print(f\"User is {self.gender} by gender\")\n",
    "        print(f\"User email address is {self.email}\")\n",
    "    def greet_user(self):\n",
    "        if self.gender =='Female':\n",
    "            print(f\"Welcome Ms: {self.first_name} {self.last_name}\")\n",
    "        else:\n",
    "            print(f\"Welcome Mr: {self.first_name} {self.last_name}\") \n",
    "user1 = User('Saeed','Afzal','Male','afzalsaeed727','12345')\n",
    "user2 = User('Saadia','Asad','Female','afzalsaadia123','123456')\n",
    "            "
   ]
  },
  {
   "cell_type": "code",
   "execution_count": 94,
   "metadata": {},
   "outputs": [
    {
     "name": "stdout",
     "output_type": "stream",
     "text": [
      "User Name is Saeed  Afzal\n",
      "User is Male by gender\n",
      "User email address is afzalsaeed727\n"
     ]
    }
   ],
   "source": [
    "user1.describe_user()"
   ]
  },
  {
   "cell_type": "code",
   "execution_count": 95,
   "metadata": {},
   "outputs": [
    {
     "name": "stdout",
     "output_type": "stream",
     "text": [
      "Welcome Mr: Saeed Afzal\n"
     ]
    }
   ],
   "source": [
    "user1.greet_user()"
   ]
  },
  {
   "cell_type": "code",
   "execution_count": 96,
   "metadata": {},
   "outputs": [
    {
     "name": "stdout",
     "output_type": "stream",
     "text": [
      "User Name is Saadia  Asad\n",
      "User is Female by gender\n",
      "User email address is afzalsaadia123\n"
     ]
    }
   ],
   "source": [
    "user2.describe_user()"
   ]
  },
  {
   "cell_type": "code",
   "execution_count": 98,
   "metadata": {},
   "outputs": [
    {
     "name": "stdout",
     "output_type": "stream",
     "text": [
      "Welcome Ms: Saadia Asad\n"
     ]
    }
   ],
   "source": [
    "user2.greet_user()"
   ]
  },
  {
   "cell_type": "markdown",
   "metadata": {},
   "source": [
    "9-4. Number Served: Start with your program from Exercise 9-1 (page 166) . Add an attribute called number_served with a default value of 0 . Create an instance called restaurant from this class . Print the number of customers the restaurant has served, and then change this value and print it again . Add a method called set_number_served() that lets you set the number of customers that have been served . Call this method with a new number and print the value again . Add a method called increment_number_served() that lets you increment the number of customers who’ve been served . Call this method with any number you like that could represent how many customers were served in, say, a day of business"
   ]
  },
  {
   "cell_type": "code",
   "execution_count": 114,
   "metadata": {},
   "outputs": [],
   "source": [
    "class Resturant():\n",
    "    def __init__(self,restaurant_name,cuisine_type):\n",
    "        self.restaurant_name = restaurant_name\n",
    "        self.cuisine_type = cuisine_type\n",
    "        self.number_served = 0\n",
    "    def describe_restaurant(self): \n",
    "        print(self.restaurant_name, self.cuisine_type)\n",
    "        \n",
    "    def  open_restaurant(self):\n",
    "        print(self.restaurant_name +\" is open now\")\n",
    "    def set_number_served(self,num):\n",
    "        self.number_served = num\n",
    "    def increment_number_served(self, newNum):\n",
    "        self.number_served += newNum \n",
    "        "
   ]
  },
  {
   "cell_type": "code",
   "execution_count": 115,
   "metadata": {},
   "outputs": [],
   "source": [
    "r4 = Resturant(\"abc\", \"australian\")"
   ]
  },
  {
   "cell_type": "code",
   "execution_count": 116,
   "metadata": {},
   "outputs": [
    {
     "data": {
      "text/plain": [
       "0"
      ]
     },
     "execution_count": 116,
     "metadata": {},
     "output_type": "execute_result"
    }
   ],
   "source": [
    "r4.number_served"
   ]
  },
  {
   "cell_type": "code",
   "execution_count": 117,
   "metadata": {},
   "outputs": [],
   "source": [
    "r4.number_served = 20      #Direct hit"
   ]
  },
  {
   "cell_type": "code",
   "execution_count": 118,
   "metadata": {},
   "outputs": [
    {
     "data": {
      "text/plain": [
       "20"
      ]
     },
     "execution_count": 118,
     "metadata": {},
     "output_type": "execute_result"
    }
   ],
   "source": [
    "r4.number_served"
   ]
  },
  {
   "cell_type": "code",
   "execution_count": 119,
   "metadata": {},
   "outputs": [],
   "source": [
    "r4.set_number_served(10)   #Via function"
   ]
  },
  {
   "cell_type": "code",
   "execution_count": 120,
   "metadata": {},
   "outputs": [
    {
     "data": {
      "text/plain": [
       "10"
      ]
     },
     "execution_count": 120,
     "metadata": {},
     "output_type": "execute_result"
    }
   ],
   "source": [
    "r4.number_served"
   ]
  },
  {
   "cell_type": "code",
   "execution_count": 121,
   "metadata": {},
   "outputs": [],
   "source": [
    "r4.increment_number_served(50)"
   ]
  },
  {
   "cell_type": "code",
   "execution_count": 122,
   "metadata": {},
   "outputs": [
    {
     "data": {
      "text/plain": [
       "60"
      ]
     },
     "execution_count": 122,
     "metadata": {},
     "output_type": "execute_result"
    }
   ],
   "source": [
    "r4.number_served"
   ]
  },
  {
   "cell_type": "markdown",
   "metadata": {},
   "source": [
    "9-5. Login Attempts: Add an attribute called login_attempts to your User class from Exercise 9-3 (page 166) . Write a method called increment_ login_attempts() that increments the value of login_attempts by 1 . Write another method called reset_login_attempts() that resets the value of login_ attempts to 0 . Make an instance of the User class and call increment_login_attempts() several times . Print the value of login_attempts to make sure it was incremented properly, and then call reset_login_attempts() . Print login_attempts again to make sure it was reset to 0 ."
   ]
  },
  {
   "cell_type": "code",
   "execution_count": 126,
   "metadata": {},
   "outputs": [],
   "source": [
    "class User():\n",
    "    def __init__(self,first_name,last_name,gender,email,password):\n",
    "        self.first_name =first_name\n",
    "        self.last_name = last_name\n",
    "        self.gender = gender\n",
    "        self.email = email\n",
    "        self.password = password\n",
    "        self.login_attempts = 0\n",
    "    def describe_user(self):\n",
    "        print(f\"User Name is {self.first_name}  {self.last_name}\")\n",
    "        print(f\"User is {self.gender} by gender\")\n",
    "        print(f\"User email address is {self.email}\")\n",
    "    def greet_user(self):\n",
    "        if self.gender =='Female':\n",
    "            print(f\"Welcome Ms: {self.first_name} {self.last_name}\")\n",
    "        else:\n",
    "            print(f\"Welcome Mr: {self.first_name} {self.last_name}\") \n",
    "    def increment_login_attempts(self):\n",
    "        self.login_attempts +=1\n",
    "    def reset_login_attempts(self):\n",
    "        self.login_attempts = 0\n",
    "    \n",
    "    \n",
    "user1 = User('Saeed','Afzal','Male','afzalsaeed727','12345')\n",
    "user2 = User('Saadia','Asad','Female','afzalsaadia123','123456')"
   ]
  },
  {
   "cell_type": "code",
   "execution_count": 127,
   "metadata": {},
   "outputs": [
    {
     "data": {
      "text/plain": [
       "0"
      ]
     },
     "execution_count": 127,
     "metadata": {},
     "output_type": "execute_result"
    }
   ],
   "source": [
    "user1.login_attempts"
   ]
  },
  {
   "cell_type": "code",
   "execution_count": 132,
   "metadata": {},
   "outputs": [],
   "source": [
    "user1.increment_login_attempts()  #jitni baar chalega increment hota jaega "
   ]
  },
  {
   "cell_type": "code",
   "execution_count": 134,
   "metadata": {},
   "outputs": [
    {
     "data": {
      "text/plain": [
       "3"
      ]
     },
     "execution_count": 134,
     "metadata": {},
     "output_type": "execute_result"
    }
   ],
   "source": [
    "user1.login_attempts"
   ]
  },
  {
   "cell_type": "code",
   "execution_count": 135,
   "metadata": {},
   "outputs": [],
   "source": [
    "user1.reset_login_attempts()     # login_attempts empty krdega "
   ]
  },
  {
   "cell_type": "code",
   "execution_count": 136,
   "metadata": {},
   "outputs": [
    {
     "data": {
      "text/plain": [
       "0"
      ]
     },
     "execution_count": 136,
     "metadata": {},
     "output_type": "execute_result"
    }
   ],
   "source": [
    "user1.login_attempts"
   ]
  },
  {
   "cell_type": "markdown",
   "metadata": {},
   "source": [
    "9-6. Ice Cream Stand: An ice cream stand is a specific kind of restaurant . Write a class called IceCreamStand that inherits from the Restaurant class you wrote in Exercise 9-1 (page 166) or Exercise 9-4 (page 171) . Either version of the class will work; just pick the one you like better . Add an attribute called flavors that stores a list of ice cream flavors . Write a method that displays these flavors . Create an instance of IceCreamStand, and call this method"
   ]
  },
  {
   "cell_type": "code",
   "execution_count": 140,
   "metadata": {},
   "outputs": [],
   "source": [
    "class Resturant():\n",
    "    def __init__(self,restaurant_name,cuisine_type):\n",
    "        self.restaurant_name = restaurant_name\n",
    "        self.cuisine_type = cuisine_type\n",
    "        self.number_served = 0\n",
    "    def describe_restaurant(self): \n",
    "        print(self.restaurant_name, self.cuisine_type)\n",
    "        \n",
    "    def  open_restaurant(self):\n",
    "        print(self.restaurant_name +\" is open now\")\n",
    "    def set_number_served(self,num):\n",
    "        self.number_served = num\n",
    "    def increment_number_served(self, newNum):\n",
    "        self.number_served += newNum \n",
    "\n",
    "#Inherit Class\n",
    "class IceCreamStand(Resturant):\n",
    "    def __init__(self,restaurant_name,cuisine_type):\n",
    "        super().__init__(restaurant_name,cuisine_type)\n",
    "        self.flavors = ['a','b','c']\n",
    "    def showFlavours(self):\n",
    "        print(\"Available flavours are: \")\n",
    "        for flavour in self.flavors:\n",
    "            print(flavour, end=',')\n"
   ]
  },
  {
   "cell_type": "code",
   "execution_count": 141,
   "metadata": {},
   "outputs": [],
   "source": [
    "ice1 = IceCreamStand(\"Baskin\",\"Yougs\")"
   ]
  },
  {
   "cell_type": "code",
   "execution_count": 142,
   "metadata": {},
   "outputs": [
    {
     "name": "stdout",
     "output_type": "stream",
     "text": [
      "Available flavours are: \n",
      "a,b,c,"
     ]
    }
   ],
   "source": [
    "ice1.showFlavours()"
   ]
  },
  {
   "cell_type": "code",
   "execution_count": null,
   "metadata": {},
   "outputs": [],
   "source": []
  }
 ],
 "metadata": {
  "kernelspec": {
   "display_name": "Python 3",
   "language": "python",
   "name": "python3"
  },
  "language_info": {
   "codemirror_mode": {
    "name": "ipython",
    "version": 3
   },
   "file_extension": ".py",
   "mimetype": "text/x-python",
   "name": "python",
   "nbconvert_exporter": "python",
   "pygments_lexer": "ipython3",
   "version": "3.7.6"
  }
 },
 "nbformat": 4,
 "nbformat_minor": 4
}
