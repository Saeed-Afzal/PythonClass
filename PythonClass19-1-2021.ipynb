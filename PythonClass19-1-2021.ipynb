{
 "cells": [
  {
   "cell_type": "markdown",
   "metadata": {},
   "source": [
    "# Python Class 19/01/2021"
   ]
  },
  {
   "cell_type": "code",
   "execution_count": null,
   "metadata": {},
   "outputs": [],
   "source": [
    "#Example page no: 130\n",
    "responses = {}                                      #empty dictionary\n",
    "polling_active = True                              #while loop true hogaya \n",
    "while polling_active:   \n",
    "    # Prompt for the person's name and response.   \n",
    "    name = input(\"\\nWhat is your name? \")          #input lia aur 1 variable me store kradia : key bnadia\n",
    "    response = input(\"Which mountain would you like to climb someday? \")            #input lia aur 1 variable me store kradia : value bnadi\n",
    "    # Store the response in the dictionary:   \n",
    "    responses[name] = response        \n",
    "    # Find out if anyone else is going to take the poll.    \n",
    "    repeat = input(\"Would you like to let another person respond? (yes/ no) \")    \n",
    "    if repeat == 'no':       \n",
    "        polling_active = False        \n",
    " # Polling is complete. Show the results. \n",
    "print(\"\\n--- Poll Results ---\")  \n",
    "for name, response in responses.items():    \n",
    "        print(name + \" would like to climb \" + response + \".\")"
   ]
  },
  {
   "cell_type": "code",
   "execution_count": null,
   "metadata": {},
   "outputs": [],
   "source": [
    "#function define\n",
    "#function call\n",
    "\n",
    "def adding():\n",
    "    #agr hmen koi text likhna ho function me jo hmen btae k ye function kis ne bnaya hai q bnaya ha to hm aise likhen gay function k start pr hypens use kr k eg: This function take...\n",
    "    '''This function take no arguments                     \n",
    "    it returns the sum of two integers by users\n",
    "    This function is made by me'''\n",
    "    n1 = int(input())\n",
    "    n2 = int(input())\n",
    "    return n1 + n2\n",
    "adding()"
   ]
  },
  {
   "cell_type": "code",
   "execution_count": null,
   "metadata": {},
   "outputs": [],
   "source": [
    "help(adding)"
   ]
  },
  {
   "cell_type": "code",
   "execution_count": null,
   "metadata": {},
   "outputs": [],
   "source": [
    "typeof(n1)"
   ]
  },
  {
   "cell_type": "code",
   "execution_count": null,
   "metadata": {},
   "outputs": [],
   "source": []
  }
 ],
 "metadata": {
  "kernelspec": {
   "display_name": "Python 3",
   "language": "python",
   "name": "python3"
  },
  "language_info": {
   "codemirror_mode": {
    "name": "ipython",
    "version": 3
   },
   "file_extension": ".py",
   "mimetype": "text/x-python",
   "name": "python",
   "nbconvert_exporter": "python",
   "pygments_lexer": "ipython3",
   "version": "3.7.6"
  }
 },
 "nbformat": 4,
 "nbformat_minor": 4
}
