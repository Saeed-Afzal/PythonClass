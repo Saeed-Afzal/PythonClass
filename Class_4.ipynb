{
 "cells": [
  {
   "cell_type": "code",
   "execution_count": 3,
   "metadata": {},
   "outputs": [
    {
     "data": {
      "text/plain": [
       "[(1, 11), (1, 12), (2, 11), (2, 12), (3, 11), (3, 12), (4, 11), (4, 12)]"
      ]
     },
     "execution_count": 3,
     "metadata": {},
     "output_type": "execute_result"
    }
   ],
   "source": [
    "# lidt comprehension\n",
    "[(a,b) for a in range(1,5) for b in range(11,13)]"
   ]
  },
  {
   "cell_type": "code",
   "execution_count": 7,
   "metadata": {},
   "outputs": [
    {
     "data": {
      "text/plain": [
       "[(1, 11), (1, 12), (2, 11), (2, 12), (3, 11), (3, 12), (4, 11), (4, 12)]"
      ]
     },
     "execution_count": 7,
     "metadata": {},
     "output_type": "execute_result"
    }
   ],
   "source": [
    "# without list comprehension\n",
    "mylist=[]\n",
    "for a in range(1,5):\n",
    "    for b in range(11,13):\n",
    "        mylist.append((a,b))\n",
    "mylist        \n"
   ]
  },
  {
   "cell_type": "code",
   "execution_count": 9,
   "metadata": {},
   "outputs": [
    {
     "data": {
      "text/plain": [
       "[(5, 25), (6, 36)]"
      ]
     },
     "execution_count": 9,
     "metadata": {},
     "output_type": "execute_result"
    }
   ],
   "source": [
    "suqarelis=[]\n",
    "for a in range(1,21):\n",
    "    for b in range(21,41):\n",
    "        if(b==a**2):\n",
    "            suqarelis.append((a,b))\n",
    "suqarelis           "
   ]
  },
  {
   "cell_type": "markdown",
   "metadata": {},
   "source": [
    "# Set collection of disting objects repitation not allow\n"
   ]
  },
  {
   "cell_type": "code",
   "execution_count": 11,
   "metadata": {},
   "outputs": [
    {
     "data": {
      "text/plain": [
       "{1, 2, 3, 5, 7, 8, 9}"
      ]
     },
     "execution_count": 11,
     "metadata": {},
     "output_type": "execute_result"
    }
   ],
   "source": [
    "aset={1,2,3,3,5,3,5,7,8,9,3,2,1}\n",
    "len(aset)\n",
    "aset"
   ]
  },
  {
   "cell_type": "code",
   "execution_count": 29,
   "metadata": {},
   "outputs": [
    {
     "name": "stdout",
     "output_type": "stream",
     "text": [
      "[1, 2, 3, 5]\n",
      "[1, 2, 3, 5]\n",
      "{1, 2, 3, 5}\n",
      "[1, 2, 1, 3, 5, 3, 1, 2]\n"
     ]
    }
   ],
   "source": [
    "# list may repeate na ho value is k lea 2 opt hay\n",
    "myli=[1,2,1,3,5,3,1,2]\n",
    "ls2=[]\n",
    "for x in myli:\n",
    "    if x not in ls2:\n",
    "        ls2.append(x)\n",
    "print(ls2)  \n",
    "#using list comprehension\n",
    "ls=[]\n",
    "[ls.append(x) for x in myli if x not in ls]\n",
    "print(ls)\n",
    "\n",
    "# set(myli)\n",
    "print(set(myli))\n",
    "\n",
    "#convert set into list\n",
    "list(set(myli))\n",
    "print(myli) # purani list may farq ni par"
   ]
  },
  {
   "cell_type": "code",
   "execution_count": 31,
   "metadata": {},
   "outputs": [
    {
     "data": {
      "text/plain": [
       "{4, 5, 6, 7, 8, 90}"
      ]
     },
     "execution_count": 31,
     "metadata": {},
     "output_type": "execute_result"
    }
   ],
   "source": [
    "# set funtions\n",
    "aset={2,3,4,5,6,7,8,90}\n",
    "difference_set=aset.difference({2,3,20,30})\n",
    "difference_set   #is nay phlay walay list say value check ki or jo same the usay hata kar jst baki value phla wal iki ratyeb kj8u"
   ]
  },
  {
   "cell_type": "code",
   "execution_count": 32,
   "metadata": {},
   "outputs": [
    {
     "data": {
      "text/plain": [
       "{1, 2, 3, 7}"
      ]
     },
     "execution_count": 32,
     "metadata": {},
     "output_type": "execute_result"
    }
   ],
   "source": [
    "other_set={2,3,4,7,5,1}\n",
    "other_set.difference_update({4,5,0})\n",
    "other_set # real set may update krta hay jo same ho 2no set mqy usay haata day ga"
   ]
  },
  {
   "cell_type": "code",
   "execution_count": 39,
   "metadata": {},
   "outputs": [
    {
     "name": "stdout",
     "output_type": "stream",
     "text": [
      "{1, 2, 4, 5, 7}\n"
     ]
    },
    {
     "data": {
      "text/plain": [
       "{1, 2, 4, 5, 7, 8}"
      ]
     },
     "execution_count": 39,
     "metadata": {},
     "output_type": "execute_result"
    }
   ],
   "source": [
    "other_sett={2,4,1,5}\n",
    "other_sett.update({7}) #sort with update\n",
    "print(other_sett)\n",
    "\n",
    "other_sett.add(8)\n",
    "other_sett"
   ]
  },
  {
   "cell_type": "code",
   "execution_count": 42,
   "metadata": {},
   "outputs": [
    {
     "data": {
      "text/plain": [
       "{'0', 2, 3, '4', 5}"
      ]
     },
     "execution_count": 42,
     "metadata": {},
     "output_type": "execute_result"
    }
   ],
   "source": [
    "#set iterable value layta hay is lea agr int as str day gay to ya usko iterable day ga\n",
    "liss={2,3,5}\n",
    "liss.update('40')\n",
    "liss"
   ]
  },
  {
   "cell_type": "markdown",
   "metadata": {},
   "source": [
    "# dictionayr"
   ]
  },
  {
   "cell_type": "code",
   "execution_count": null,
   "metadata": {},
   "outputs": [],
   "source": [
    "mydict={} #bydefault ya dic hay"
   ]
  },
  {
   "cell_type": "code",
   "execution_count": 20,
   "metadata": {},
   "outputs": [
    {
     "name": "stdout",
     "output_type": "stream",
     "text": [
      "key1 ali\n",
      "key2 asad\n",
      "key3 kami\n",
      "key4 amir\n"
     ]
    }
   ],
   "source": [
    "mydic={'key1':'ali','key2':'asad','key3':'kami','key4':'amir'} # ya sequance follow ni krta hay jst jo ajae show kray ga bhala shuru may name ho or agr phla aya to age show hogi\n",
    "type(mydic) \n",
    "for key,value in mydic.items():\n",
    "    print(key,value)\n"
   ]
  },
  {
   "cell_type": "code",
   "execution_count": 22,
   "metadata": {},
   "outputs": [
    {
     "name": "stdout",
     "output_type": "stream",
     "text": [
      "key1\n",
      "key2\n",
      "key3\n",
      "key4\n"
     ]
    }
   ],
   "source": [
    "#onlu for key\n",
    "for key in mydic.keys():\n",
    "    print(key)"
   ]
  },
  {
   "cell_type": "code",
   "execution_count": 23,
   "metadata": {},
   "outputs": [
    {
     "name": "stdout",
     "output_type": "stream",
     "text": [
      "ali\n",
      "asad\n",
      "kami\n",
      "amir\n"
     ]
    }
   ],
   "source": [
    "#only for value\n",
    "for value in mydic.values():\n",
    "    print(value)"
   ]
  },
  {
   "cell_type": "code",
   "execution_count": 25,
   "metadata": {},
   "outputs": [
    {
     "name": "stdout",
     "output_type": "stream",
     "text": [
      "key1\n",
      "key2\n",
      "key3\n",
      "key4\n"
     ]
    }
   ],
   "source": [
    "#touple return kray ga bcs 2 2 kay pare ban rahay hay\n",
    "for value in mydic:\n",
    "    print(value)"
   ]
  },
  {
   "cell_type": "code",
   "execution_count": 36,
   "metadata": {},
   "outputs": [
    {
     "name": "stdout",
     "output_type": "stream",
     "text": [
      "(0, 'P')\n",
      "(1, 'a')\n",
      "(2, 'k')\n",
      "(3, 'i')\n",
      "(4, 's')\n",
      "(5, 't')\n",
      "(6, 'a')\n",
      "(7, 'n')\n",
      "0\n",
      "1\n",
      "2\n",
      "3\n",
      "4\n",
      "5\n",
      "6\n",
      "7\n",
      "...........\n",
      "0\n",
      "key1\n",
      "ali\n",
      "1\n",
      "key2\n",
      "asad\n",
      "2\n",
      "key3\n",
      "kami\n",
      "3\n",
      "key4\n",
      "amir\n",
      "dict_items([('key1', 'ali'), ('key2', 'asad'), ('key3', 'kami'), ('key4', 'amir')])\n"
     ]
    }
   ],
   "source": [
    "# index lana ho agr kisi bhi value ka to   -----> enumerate() use hoga list ya dic kisi k lea\n",
    "for x in enumerate(\"Pakistan\"):\n",
    "    print(x)\n",
    "#unpack ho jae gA IS SAY    \n",
    "for a,b in enumerate(\"Pakistan\"):\n",
    "    print(a)  \n",
    "#2 value return kray ga key or touple in dono ko alag alag get k lea\n",
    "print(\"...........\")    \n",
    "for index,(key,value) in enumerate(mydic.items()):\n",
    "    print(index)\n",
    "    print(key)\n",
    "    print(value)\n",
    "print(mydic.items()) # ya 1 list resturn kray ga jis may har index pay key value pare ka1 touple hoga    "
   ]
  },
  {
   "cell_type": "code",
   "execution_count": 45,
   "metadata": {},
   "outputs": [
    {
     "data": {
      "text/plain": [
       "{'milk': 0.7738095238095238, 'oil': 1.6666666666666667}"
      ]
     },
     "execution_count": 45,
     "metadata": {},
     "output_type": "execute_result"
    }
   ],
   "source": [
    "#dictonary comprehenstion convert rs into doller\n",
    "doller=168\n",
    "price_in_rp={'milk':130,'oil':280,'shuger':100}\n",
    "price_in_doller={key:value/doller for key,value in price_in_rp.items()}\n",
    "print(price_in_doller)\n",
    "\n",
    "# agr value 0.6 say bari ho to he list may jae doller may convert honay kay bad\n",
    "doller=168\n",
    "price_in_rp={'milk':130,'oil':280,'shuger':100}\n",
    "price_in_doller={key:value/doller for key,value in price_in_rp.items() if (value/doller) > 0.6}\n",
    "price_in_doller"
   ]
  },
  {
   "cell_type": "code",
   "execution_count": null,
   "metadata": {},
   "outputs": [],
   "source": []
  }
 ],
 "metadata": {
  "kernelspec": {
   "display_name": "Python 3",
   "language": "python",
   "name": "python3"
  },
  "language_info": {
   "codemirror_mode": {
    "name": "ipython",
    "version": 3
   },
   "file_extension": ".py",
   "mimetype": "text/x-python",
   "name": "python",
   "nbconvert_exporter": "python",
   "pygments_lexer": "ipython3",
   "version": "3.8.5"
  }
 },
 "nbformat": 4,
 "nbformat_minor": 4
}
