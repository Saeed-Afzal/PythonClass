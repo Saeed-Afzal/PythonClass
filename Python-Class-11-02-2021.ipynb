{
 "cells": [
  {
   "cell_type": "markdown",
   "metadata": {},
   "source": [
    "# Python Class 11/02/2021"
   ]
  },
  {
   "cell_type": "markdown",
   "metadata": {},
   "source": [
    "10-3. Guest: Write a program that prompts the user for their name . When they respond, write their name to a file called guest.txt ."
   ]
  },
  {
   "cell_type": "code",
   "execution_count": null,
   "metadata": {},
   "outputs": [],
   "source": [
    "name = input(\"Write Your Name: \")\n",
    "with open(\"guests\",\"w\") as obj:\n",
    "    obj.write(\"Guest: \" + name)"
   ]
  },
  {
   "cell_type": "markdown",
   "metadata": {},
   "source": [
    "10-4. Guest Book: Write a while loop that prompts users for their name . When they enter their name, print a greeting to the screen and add a line recording their visit in a file called guest_book.txt . Make sure each entry appears on a new line in the file"
   ]
  },
  {
   "cell_type": "code",
   "execution_count": 1,
   "metadata": {},
   "outputs": [
    {
     "name": "stdout",
     "output_type": "stream",
     "text": [
      "Write Your Name: SAEED\n",
      "Write Your Name: ALI\n",
      "Write Your Name: q\n"
     ]
    }
   ],
   "source": [
    "while(True):\n",
    "    name = input(\"Write Your Name: \")\n",
    "    if (name != \"q\"):\n",
    "        with open(\"guest_book\",\"a\") as obj:\n",
    "            obj.write(\"Welcome \"+ name +\"\\n\")\n",
    "    else:\n",
    "        break"
   ]
  },
  {
   "cell_type": "markdown",
   "metadata": {},
   "source": [
    "10-5. Programming Poll: Write a while loop that asks people why they like programming . Each time someone enters a reason, add their reason to a file that stores all the responses ."
   ]
  },
  {
   "cell_type": "code",
   "execution_count": 2,
   "metadata": {},
   "outputs": [
    {
     "name": "stdout",
     "output_type": "stream",
     "text": [
      "Write Your Name: SAEED\n",
      "Why You Like Programing?HELLO\n",
      "Write Your Name: q\n",
      "Why You Like Programing?q\n"
     ]
    }
   ],
   "source": [
    "while(True):\n",
    "    name = input(\"Write Your Name: \")\n",
    "    ask = input(\"Why You Like Programing?\")\n",
    "    if (name != \"q\" and ask != \"q\"):\n",
    "        with open(\"guest_book\",\"a\") as obj:\n",
    "            obj.write(\"Welcome \"+ name +\"\\n\")\n",
    "        with open(\"guest_book\",\"a\") as obj:\n",
    "            obj.write(\"Response: \"+ ask + \"\\n\")\n",
    "    else:\n",
    "        break"
   ]
  },
  {
   "cell_type": "markdown",
   "metadata": {},
   "source": [
    "10-5. Programming Poll: Write a while loop that asks people why they like programming . Each time someone enters a reason, add their reason to a file that stores all the responses ."
   ]
  },
  {
   "cell_type": "code",
   "execution_count": null,
   "metadata": {},
   "outputs": [
    {
     "name": "stdout",
     "output_type": "stream",
     "text": [
      "Write Your Name: Saeed\n",
      "Write Your Name: Ali\n",
      "Write Your Name: Saeed\n",
      "This person is already in list\n"
     ]
    }
   ],
   "source": [
    "with open(\"guests\",\"w+\") as obj:\n",
    "    while True:\n",
    "        obj.seek(0)\n",
    "        r = obj.read()\n",
    "        name = input(\"Write Your Name: \")\n",
    "        if (name != \"q\"):\n",
    "            if (name in r):\n",
    "                print(\"This person is already in list\")\n",
    "            else:\n",
    "                obj.write(\"Guest: \" + name + \"\\n\")\n",
    "        else:\n",
    "            break\n"
   ]
  },
  {
   "cell_type": "code",
   "execution_count": 1,
   "metadata": {},
   "outputs": [
    {
     "name": "stdout",
     "output_type": "stream",
     "text": [
      "Sir, can I have your name? Saeed\n",
      "Welcome Saeed\n",
      "Enter q for quit or press anykey for continue..\n",
      "Sir, can I have your name? Ali\n",
      "Welcome Ali\n",
      "Enter q for quit or press anykey for continue..\n",
      "Sir, can I have your name? Saad\n",
      "Sorry, you are not invited..\n",
      "Enter q for quit or press anykey for continue..Q\n"
     ]
    }
   ],
   "source": [
    "while True:\n",
    "    f = open(\"guests\", \"r\")\n",
    "    name = input('Sir, can I have your name? ')    \n",
    "    if name in f.read():\n",
    "        print(f'Welcome {name}')\n",
    "    else:\n",
    "        print('Sorry, you are not invited..')\n",
    "    if(input('Enter q for quit or press anykey for continue..').lower() == 'q'):\n",
    "        break;"
   ]
  },
  {
   "cell_type": "code",
   "execution_count": null,
   "metadata": {},
   "outputs": [],
   "source": []
  },
  {
   "cell_type": "code",
   "execution_count": 3,
   "metadata": {},
   "outputs": [],
   "source": [
    "#json.dump() json.load()"
   ]
  },
  {
   "cell_type": "code",
   "execution_count": null,
   "metadata": {},
   "outputs": [],
   "source": []
  }
 ],
 "metadata": {
  "kernelspec": {
   "display_name": "Python 3",
   "language": "python",
   "name": "python3"
  },
  "language_info": {
   "codemirror_mode": {
    "name": "ipython",
    "version": 3
   },
   "file_extension": ".py",
   "mimetype": "text/x-python",
   "name": "python",
   "nbconvert_exporter": "python",
   "pygments_lexer": "ipython3",
   "version": "3.7.6"
  }
 },
 "nbformat": 4,
 "nbformat_minor": 4
}
