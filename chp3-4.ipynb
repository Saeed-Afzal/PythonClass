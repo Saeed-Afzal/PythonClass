{
 "cells": [
  {
   "cell_type": "markdown",
   "metadata": {},
   "source": [
    "3-1. Names: Store the names of a few of your friends in a list called names. Print each person’s name by accessing each element in the list, one at a time."
   ]
  },
  {
   "cell_type": "code",
   "execution_count": 30,
   "metadata": {},
   "outputs": [
    {
     "name": "stdout",
     "output_type": "stream",
     "text": [
      "mubashir\n",
      "muzammil\n",
      "naeem\n"
     ]
    }
   ],
   "source": [
    "my_friend_list=[\"mubashir\",\"muzammil\",\"naeem\"]\n",
    "print(my_friend_list[0])\n",
    "print(my_friend_list[1])\n",
    "print(my_friend_list[2])"
   ]
  },
  {
   "cell_type": "raw",
   "metadata": {},
   "source": [
    "3-2. Greetings: Start with the list you used in Exercise 3-1, but instead of just\n",
    "printing each person’s name, print a message to them. The text of each message should be the same, but each message should be personalized with the\n",
    "person’s name."
   ]
  },
  {
   "cell_type": "code",
   "execution_count": 31,
   "metadata": {},
   "outputs": [
    {
     "name": "stdout",
     "output_type": "stream",
     "text": [
      "mubashir is my good friend\n",
      "muzammil is my best friend\n",
      "naeem is my best friend\n"
     ]
    }
   ],
   "source": [
    "print(my_friend_list[0]+\" is my good friend\")\n",
    "print(my_friend_list[1]+\" is my best friend\")\n",
    "print(my_friend_list[2]+\" is my best friend\")"
   ]
  },
  {
   "cell_type": "markdown",
   "metadata": {},
   "source": [
    "3-3. Your Own List: Think of your favorite mode of transportation, such as a\n",
    "motorcycle or a car, and make a list that stores several examples. Use your list\n",
    "to print a series of statements about these items, such as “I would like to own a\n",
    "Honda motorcycle.”"
   ]
  },
  {
   "cell_type": "code",
   "execution_count": 32,
   "metadata": {},
   "outputs": [
    {
     "name": "stdout",
     "output_type": "stream",
     "text": [
      "my most favourite car color is white\n"
     ]
    }
   ],
   "source": [
    "fvt_car_color=[\"black\",\"red\",'white']\n",
    "print(\"my most favourite car color is \"+fvt_car_color[2])"
   ]
  },
  {
   "cell_type": "markdown",
   "metadata": {},
   "source": [
    "3-4. Guest List: If you could invite anyone, living or deceased, to dinner, who\n",
    "would you invite? Make a list that includes at least three people you’d like to\n",
    "invite to dinner. Then use your list to print a message to each person, inviting\n",
    "them to dinner."
   ]
  },
  {
   "cell_type": "code",
   "execution_count": 42,
   "metadata": {},
   "outputs": [
    {
     "name": "stdout",
     "output_type": "stream",
     "text": [
      "amjad you are invited\n",
      "muzammil you are invited\n",
      "mubashir you are invited\n",
      "['amjad', 'muzammil', 'mubashir']\n"
     ]
    }
   ],
   "source": [
    "invited_persons=[\"amjad\",\"muzammil\",\"mubashir\"]\n",
    "print(invited_persons[0]+\" you are invited\")\n",
    "print(invited_persons[1]+\" you are invited\")\n",
    "print(invited_persons[2]+\" you are invited\")\n",
    "print(invited_persons)"
   ]
  },
  {
   "cell_type": "markdown",
   "metadata": {},
   "source": [
    "3-5. Changing Guest List: You just heard that one of your guests can’t make the\n",
    "dinner, so you need to send out a new set of invitations. You’ll have to think of\n",
    "someone else to invite.\n",
    "•\t Start with your program from Exercise 3-4. Add a print statement at the\n",
    "end of your program stating the name of the guest who can’t make it.\n",
    "•\t Modify your list, replacing the name of the guest who can’t make it with\n",
    "the name of the new person you are inviting.\n",
    "•\t Print a second set of invitation messages, one for each person who is still\n",
    "in your list."
   ]
  },
  {
   "cell_type": "code",
   "execution_count": 43,
   "metadata": {},
   "outputs": [
    {
     "name": "stdout",
     "output_type": "stream",
     "text": [
      "muzammil Sorry! i am not availabe \n",
      "amjad you are invited\n",
      "Ali you are invited\n",
      "mubashir you are invited\n",
      "['amjad', 'Ali', 'mubashir']\n"
     ]
    }
   ],
   "source": [
    "print(invited_persons[1]+\" Sorry! i am not availabe \")\n",
    "invited_persons[1]=\"Ali\"\n",
    "print(invited_persons[0]+\" you are invited\")\n",
    "print(invited_persons[1]+\" you are invited\")\n",
    "print(invited_persons[2]+\" you are invited\")\n",
    "print(invited_persons)"
   ]
  },
  {
   "cell_type": "markdown",
   "metadata": {},
   "source": [
    "3-6. More Guests: You just found a bigger dinner table, so now more space is\n",
    "available. Think of three more guests to invite to dinner.\n",
    "•\t Start with your program from Exercise 3-4 or Exercise 3-5. Add a print\n",
    "statement to the end of your program informing people that you found a\n",
    "bigger dinner table.\n",
    "•\t Use insert() to add one new guest to the beginning of your list.\n",
    "•\t Use insert() to add one new guest to the middle of your list.\n",
    "•\t Use append() to add one new guest to the end of your list.\n",
    "•\t Print a new set of invitation messages, one for each person in your list."
   ]
  },
  {
   "cell_type": "code",
   "execution_count": 44,
   "metadata": {},
   "outputs": [
    {
     "name": "stdout",
     "output_type": "stream",
     "text": [
      "saad you are invited\n",
      "amjad you are invited\n",
      "sadia you are invited\n",
      "Ali you are invited\n",
      "mubashir you are invited\n",
      "haris you are invited\n",
      "['saad', 'amjad', 'sadia', 'Ali', 'mubashir', 'haris']\n"
     ]
    }
   ],
   "source": [
    "invited_persons.insert(0,\"saad\")\n",
    "invited_persons.insert(2,\"sadia\")\n",
    "invited_persons.append(\"haris\")\n",
    "print(invited_persons[0]+\" you are invited\")\n",
    "print(invited_persons[1]+\" you are invited\")\n",
    "print(invited_persons[2]+\" you are invited\")\n",
    "print(invited_persons[3]+\" you are invited\")\n",
    "print(invited_persons[4]+\" you are invited\")\n",
    "print(invited_persons[5]+\" you are invited\")\n",
    "print(invited_persons)\n",
    "total_persons = invited_persons "
   ]
  },
  {
   "cell_type": "markdown",
   "metadata": {},
   "source": [
    "3-7. Shrinking Guest List: You just found out that your new dinner table won’t\n",
    "arrive in time for the dinner, and you have space for only two guests.\n",
    "•\t Start with your program from Exercise 3-6. Add a new line that prints a\n",
    "message saying that you can invite only two people for dinner.\n",
    "•\t Use pop() to remove guests from your list one at a time until only two\n",
    "names remain in your list. Each time you pop a name from your list, print\n",
    "a message to that person letting them know you’re sorry you can’t invite\n",
    "them to dinner.\n",
    "•\t Print a message to each of the two people still on your list, letting them\n",
    "know they’re still invited.\n",
    "•\t Use del to remove the last two names from your list, so you have an empty\n",
    "list. Print your list to make sure you actually have an empty list at the end\n",
    "of your program."
   ]
  },
  {
   "cell_type": "code",
   "execution_count": 37,
   "metadata": {},
   "outputs": [
    {
     "name": "stdout",
     "output_type": "stream",
     "text": [
      "you can invite only 2 person your current list is\n",
      "['saad', 'amjad', 'sadia', 'Ali', 'mubashir', 'haris']\n",
      "haris sorry you can’t invite them to dinner\n",
      "mubashir sorry you can’t invite them to dinner\n",
      "Ali sorry you can’t invite them to dinner\n",
      "sadia sorry you can’t invite them to dinner\n",
      "saad you are still invided\n",
      "amjad you are still invited\n",
      "[]\n"
     ]
    }
   ],
   "source": [
    "print(\"you can invite only 2 person your current list is\")\n",
    "print(invited_persons)\n",
    "print(invited_persons.pop()+\" sorry you can’t invite them to dinner\")\n",
    "print(invited_persons.pop()+\" sorry you can’t invite them to dinner\")\n",
    "print(invited_persons.pop()+\" sorry you can’t invite them to dinner\")\n",
    "print(invited_persons.pop()+\" sorry you can’t invite them to dinner\")\n",
    "print(invited_persons[0]+\" you are still invided\")\n",
    "print(invited_persons[1]+\" you are still invited\")\n",
    "del invited_persons[1]\n",
    "del invited_persons[0]\n",
    "print(invited_persons)"
   ]
  },
  {
   "cell_type": "markdown",
   "metadata": {},
   "source": [
    "3-8. Seeing the World: Think of at least five places in the world you’d like to\n",
    "visit.\n",
    "•\t Store the locations in a list. Make sure the list is not in alphabetical order.\n",
    "•\t Print your list in its original order. Don’t worry about printing the list neatly,\n",
    "just print it as a raw Python list.\n",
    "•\t Use sorted() to print your list in alphabetical order without modifying the\n",
    "actual list.\n",
    "•\t Show that your list is still in its original order by printing it.\n",
    "•\t Use sorted() to print your list in reverse alphabetical order without changing the order of the original list.\n",
    "•\t Show that your list is still in its original order by printing it again.\n",
    "•\t Use reverse() to change the order of your list. Print the list to show that its\n",
    "order has changed.\n",
    "•\t Use reverse() to change the order of your list again. Print the list to show\n",
    "it’s back to its original order.\n",
    "•\t Use sort() to change your list so it’s stored in alphabetical order. Print the\n",
    "list to show that its order has been changed.\n",
    "•\t Use sort() to change your list so it’s stored in reverse alphabetical order.\n",
    "Print the list to show that its order has changed."
   ]
  },
  {
   "cell_type": "code",
   "execution_count": 38,
   "metadata": {},
   "outputs": [
    {
     "name": "stdout",
     "output_type": "stream",
     "text": [
      "['Pakistan', 'China', 'UAE', 'USA', 'Bangladesh']\n",
      "['Pakistan', 'China', 'UAE', 'USA', 'Bangladesh']\n",
      "['Pakistan', 'China', 'UAE', 'USA', 'Bangladesh']\n",
      "['Bangladesh', 'China', 'Pakistan', 'UAE', 'USA']\n"
     ]
    }
   ],
   "source": [
    "my_places=[\"Pakistan\",\"China\",\"UAE\",\"USA\",\"Bangladesh\"]\n",
    "print(my_places)\n",
    "sorted(my_places)\n",
    "print(my_places)\n",
    "\n",
    "sorted(my_places,reverse=True)\n",
    "print(my_places)\n",
    "my_places.sort()\n",
    "print(my_places)"
   ]
  },
  {
   "cell_type": "markdown",
   "metadata": {},
   "source": [
    "3-9. Dinner Guests: Working with one of the programs from Exercises 3-4\n",
    "through 3-7 (page 46), use len() to print a message indicating the number\n",
    "of people you are inviting to dinner."
   ]
  },
  {
   "cell_type": "code",
   "execution_count": 46,
   "metadata": {},
   "outputs": [
    {
     "name": "stdout",
     "output_type": "stream",
     "text": [
      "Total invited persons are 6\n"
     ]
    }
   ],
   "source": [
    "print(\"Total invited persons are \"+ str(len(total_persons)))"
   ]
  },
  {
   "cell_type": "markdown",
   "metadata": {},
   "source": [
    "4-1. Pizzas: Think of at least three kinds of your favorite pizza. Store these\n",
    "pizza names in a list, and then use a for loop to print the name of each pizza.\n",
    "•\t Modify your for loop to print a sentence using the name of the pizza\n",
    "instead of printing just the name of the pizza. For each pizza you should\n",
    "have one line of output containing a simple statement like I like pepperoni\n",
    "pizza.\n",
    "•\t Add a line at the end of your program, outside the for loop, that states\n",
    "how much you like pizza. The output should consist of three or more lines\n",
    "about the kinds of pizza you like and then an additional sentence, such as\n",
    "I really love pizza!"
   ]
  },
  {
   "cell_type": "code",
   "execution_count": 50,
   "metadata": {},
   "outputs": [
    {
     "name": "stdout",
     "output_type": "stream",
     "text": [
      "BBQ\n",
      "Fagitta\n",
      "Chicken\n",
      "BBQ is my favourite pizza\n",
      "Fagitta is my favourite pizza\n",
      "Chicken is my favourite pizza\n",
      "I really love Chicken pizza\n"
     ]
    }
   ],
   "source": [
    "my_fvt_pizza=[\"BBQ\",\"Fagitta\",\"Chicken\"]\n",
    "for pizza in my_fvt_pizza:\n",
    "    print(pizza)\n",
    "for pizza in my_fvt_pizza:\n",
    "    print(pizza+\" is my favourite pizza\") \n",
    "print(f\"I really love {my_fvt_pizza[2]} pizza\")   "
   ]
  },
  {
   "cell_type": "markdown",
   "metadata": {},
   "source": [
    "4-2. Animals: Think of at least three different animals that have a common characteristic. Store the names of these animals in a list, and then use a for loop to\n",
    "print out the name of each animal.\n",
    "•\t Modify your program to print a statement about each animal, such as\n",
    "A dog would make a great pet.\n",
    "•\t Add a line at the end of your program stating what these animals have in\n",
    "common. You could print a sentence such as Any of these animals would\n",
    "make a great pet!"
   ]
  },
  {
   "cell_type": "code",
   "execution_count": 52,
   "metadata": {},
   "outputs": [
    {
     "name": "stdout",
     "output_type": "stream",
     "text": [
      "Dog\n",
      "Lion\n",
      "Tiger\n",
      "Dog is my favourite animal\n",
      "Lion is my favourite animal\n",
      "Tiger is my favourite animal\n",
      "All of them are my favourite animal\n"
     ]
    }
   ],
   "source": [
    "my_fvt_animal=[\"Dog\",\"Lion\",\"Tiger\"]\n",
    "for animal in my_fvt_animal:\n",
    "    print(animal)\n",
    "for animal in my_fvt_animal:\n",
    "    print(animal+\" is my favourite animal\")\n",
    "print(\"All of them are my favourite animal\")"
   ]
  },
  {
   "cell_type": "markdown",
   "metadata": {},
   "source": [
    "4-3. Counting to Twenty: Use a for loop to print the numbers from 1 to 20,\n",
    "inclusive."
   ]
  },
  {
   "cell_type": "code",
   "execution_count": 54,
   "metadata": {},
   "outputs": [
    {
     "name": "stdout",
     "output_type": "stream",
     "text": [
      "1\n",
      "2\n",
      "3\n",
      "4\n",
      "5\n",
      "6\n",
      "7\n",
      "8\n",
      "9\n",
      "10\n",
      "11\n",
      "12\n",
      "13\n",
      "14\n",
      "15\n",
      "16\n",
      "17\n",
      "18\n",
      "19\n",
      "20\n"
     ]
    }
   ],
   "source": [
    "for num in range(1,21):\n",
    "    print(num)"
   ]
  },
  {
   "cell_type": "markdown",
   "metadata": {},
   "source": [
    "4-4. One Million: Make a list of the numbers from one to one million, and then\n",
    "use a for loop to print the numbers. (If the output is taking too long, stop it by\n",
    "pressing ctrl-C or by closing the output window.)"
   ]
  },
  {
   "cell_type": "code",
   "execution_count": 55,
   "metadata": {},
   "outputs": [
    {
     "name": "stdout",
     "output_type": "stream",
     "text": [
      "1\n",
      "20\n",
      "210\n"
     ]
    }
   ],
   "source": [
    "number_list=[]\n",
    "for number in range(1,21):\n",
    "    number_list.append(number)\n",
    "print(min(number_list))\n",
    "print(max(number_list))\n",
    "print(sum(number_list)) "
   ]
  },
  {
   "cell_type": "markdown",
   "metadata": {},
   "source": [
    "4-5. Summing a Million: Make a list of the numbers from one to one million,\n",
    "and then use min() and max() to make sure your list actually starts at one and\n",
    "ends at one million. Also, use the sum() function to see how quickly Python can\n",
    "add a million numbers."
   ]
  },
  {
   "cell_type": "code",
   "execution_count": null,
   "metadata": {},
   "outputs": [],
   "source": []
  },
  {
   "cell_type": "markdown",
   "metadata": {},
   "source": [
    "4-6. Odd Numbers: Use the third argument of the range() function to make a list\n",
    "of the odd numbers from 1 to 20. Use a for loop to print each number."
   ]
  },
  {
   "cell_type": "code",
   "execution_count": 56,
   "metadata": {},
   "outputs": [
    {
     "name": "stdout",
     "output_type": "stream",
     "text": [
      "0\n",
      "2\n",
      "4\n",
      "6\n",
      "8\n",
      "10\n",
      "12\n",
      "14\n",
      "16\n",
      "18\n",
      "20\n",
      "1\n",
      "3\n",
      "5\n",
      "7\n",
      "9\n",
      "11\n",
      "13\n",
      "15\n",
      "17\n",
      "19\n"
     ]
    }
   ],
   "source": [
    "for odd in range(0,21,2):\n",
    "    print(odd)\n",
    "for even in range(1,21,2):\n",
    "    print(even)    "
   ]
  },
  {
   "cell_type": "markdown",
   "metadata": {},
   "source": [
    "4-7. Threes: Make a list of the multiples of 3 from 3 to 30. Use a for loop to\n",
    "print the numbers in your list."
   ]
  },
  {
   "cell_type": "code",
   "execution_count": 57,
   "metadata": {},
   "outputs": [
    {
     "name": "stdout",
     "output_type": "stream",
     "text": [
      "3\n",
      "6\n",
      "9\n",
      "12\n",
      "15\n",
      "18\n",
      "21\n",
      "24\n",
      "27\n",
      "30\n",
      "1\n",
      "8\n",
      "27\n",
      "64\n",
      "125\n",
      "216\n",
      "343\n",
      "512\n",
      "729\n",
      "1000\n"
     ]
    }
   ],
   "source": [
    "for num in range(1,11):\n",
    "    print(3*num)\n",
    "for cube in range(1,11):\n",
    "    print(cube**3)"
   ]
  },
  {
   "cell_type": "markdown",
   "metadata": {},
   "source": [
    "4-8. Cubes: A number raised to the third power is called a cube. For example,\n",
    "the cube of 2 is written as 2**3 in Python. Make a list of the first 10 cubes (that\n",
    "is, the cube of each integer from 1 through 10), and use a for loop to print out\n",
    "the value of each cube."
   ]
  },
  {
   "cell_type": "code",
   "execution_count": 58,
   "metadata": {},
   "outputs": [
    {
     "name": "stdout",
     "output_type": "stream",
     "text": [
      "1\n",
      "8\n",
      "27\n",
      "64\n",
      "125\n",
      "216\n",
      "343\n",
      "512\n",
      "729\n",
      "1000\n"
     ]
    }
   ],
   "source": [
    "cubes = []\n",
    "for number in range(1, 11):\n",
    "    cube = number**3\n",
    "    cubes.append(cube)\n",
    "\n",
    "for cube in cubes:\n",
    "    print(cube)"
   ]
  },
  {
   "cell_type": "markdown",
   "metadata": {},
   "source": [
    "4-9. Cube Comprehension: Use a list comprehension to generate a list of the\n",
    "first 10 cubes."
   ]
  },
  {
   "cell_type": "code",
   "execution_count": 59,
   "metadata": {},
   "outputs": [
    {
     "name": "stdout",
     "output_type": "stream",
     "text": [
      "[1, 8, 27, 64, 125, 216, 343, 512, 729, 1000]\n"
     ]
    }
   ],
   "source": [
    "print([cube**3 for cube in range(1,11)])  "
   ]
  },
  {
   "cell_type": "markdown",
   "metadata": {},
   "source": [
    "4-10. Slices: Using one of the programs you wrote in this chapter, add several\n",
    "lines to the end of the program that do the following:\n",
    "•\t Print the message, The first three items in the list are:. Then use a slice to\n",
    "print the first three items from that program’s list.\n",
    "•\t Print the message, Three items from the middle of the list are:. Use a slice\n",
    "to print three items from the middle of the list.\n",
    "•\t Print the message, The last three items in the list are:. Use a slice to print\n",
    "the last three items in the list."
   ]
  },
  {
   "cell_type": "code",
   "execution_count": null,
   "metadata": {},
   "outputs": [],
   "source": []
  },
  {
   "cell_type": "markdown",
   "metadata": {},
   "source": [
    "4-11. My Pizzas, Your Pizzas: Start with your program from Exercise 4-1\n",
    "(page 60). Make a copy of the list of pizzas, and call it friend_pizzas.\n",
    "Then, do the following:\n",
    "•\t Add a new pizza to the original list.\n",
    "•\t Add a different pizza to the list friend_pizzas.\n",
    "•\t Prove that you have two separate lists. Print the message, My favorite\n",
    "pizzas are:, and then use a for loop to print the first list. Print the message,\n",
    "My friend’s favorite pizzas are:, and then use a for loop to print the second list. Make sure each new pizza is stored in the appropriate list."
   ]
  },
  {
   "cell_type": "code",
   "execution_count": 60,
   "metadata": {},
   "outputs": [
    {
     "name": "stdout",
     "output_type": "stream",
     "text": [
      "My Fvt pizza list\n",
      "BBQ\n",
      "Fagita\n",
      "Maliboti\n",
      "RedHot\n",
      "My friend pizza list\n",
      "ChezPizaa\n",
      "OlivePizza\n",
      "SpicyPizza\n",
      "BBQ\n",
      "Comparing fvt pizza between me and my friend\n",
      "BBQ\n"
     ]
    }
   ],
   "source": [
    "my_fvt_pizza=[\"BBQ\",\"Fagita\",\"Maliboti\"]\n",
    "my_friend_fvt_pizza=[\"ChezPizaa\",\"OlivePizza\",\"SpicyPizza\"]\n",
    "my_fvt_pizza.append(\"RedHot\")\n",
    "print(\"My Fvt pizza list\")\n",
    "for pizza in my_fvt_pizza:\n",
    "    print(pizza)\n",
    "my_friend_fvt_pizza.append(\"BBQ\")    \n",
    "print(\"My friend pizza list\")\n",
    "for pizza in my_friend_fvt_pizza:\n",
    "    print(pizza)\n",
    "# same fvt pizza between me and my friend\n",
    "print(\"Comparing fvt pizza between me and my friend\")\n",
    "for same_pizza in my_fvt_pizza:\n",
    "    if same_pizza in my_friend_fvt_pizza:\n",
    "        print(same_pizza)  "
   ]
  },
  {
   "cell_type": "markdown",
   "metadata": {},
   "source": [
    "4-13. Buffet: A buffet-style restaurant offers only five basic foods. Think of five\n",
    "simple foods, and store them in a tuple.\n",
    "•\t Use a for loop to print each food the restaurant offers.\n",
    "•\t Try to modify one of the items, and make sure that Python rejects the\n",
    "change.\n",
    "•\t The restaurant changes its menu, replacing two of the items with different\n",
    "foods. Add a block of code that rewrites the tuple, and then use a for\n",
    "loop to print each of the items on the revised menu."
   ]
  },
  {
   "cell_type": "code",
   "execution_count": 61,
   "metadata": {},
   "outputs": [
    {
     "name": "stdout",
     "output_type": "stream",
     "text": [
      "You can choose from the following menu items:\n",
      "- rockfish sandwich\n",
      "- halibut nuggets\n",
      "- smoked salmon chowder\n",
      "- salmon burger\n",
      "- crab cakes\n",
      "\n",
      "Our menu has been updated.\n",
      "You can now choose from the following items:\n",
      "- rockfish sandwich\n",
      "- halibut nuggets\n",
      "- smoked salmon chowder\n",
      "- black cod tips\n",
      "- king crab legs\n"
     ]
    }
   ],
   "source": [
    "menu_items = (\n",
    "    'rockfish sandwich', 'halibut nuggets', 'smoked salmon chowder',\n",
    "    'salmon burger', 'crab cakes',\n",
    "    )\n",
    "\n",
    "print(\"You can choose from the following menu items:\")\n",
    "for item in menu_items:\n",
    "    print(\"- \" + item)\n",
    "\n",
    "menu_items = (\n",
    "    'rockfish sandwich', 'halibut nuggets', 'smoked salmon chowder',\n",
    "    'black cod tips', 'king crab legs',\n",
    "    )\n",
    "\n",
    "print(\"\\nOur menu has been updated.\")\n",
    "print(\"You can now choose from the following items:\")\n",
    "for item in menu_items:\n",
    "    print(\"- \" + item)"
   ]
  },
  {
   "cell_type": "code",
   "execution_count": null,
   "metadata": {},
   "outputs": [],
   "source": []
  }
 ],
 "metadata": {
  "kernelspec": {
   "display_name": "Python 3",
   "language": "python",
   "name": "python3"
  },
  "language_info": {
   "codemirror_mode": {
    "name": "ipython",
    "version": 3
   },
   "file_extension": ".py",
   "mimetype": "text/x-python",
   "name": "python",
   "nbconvert_exporter": "python",
   "pygments_lexer": "ipython3",
   "version": "3.8.5"
  }
 },
 "nbformat": 4,
 "nbformat_minor": 4
}
