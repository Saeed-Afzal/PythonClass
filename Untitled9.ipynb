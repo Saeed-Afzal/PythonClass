{
 "cells": [
  {
   "cell_type": "markdown",
   "metadata": {},
   "source": [
    "# LIST OF DICTIONARIES"
   ]
  },
  {
   "cell_type": "code",
   "execution_count": 10,
   "metadata": {},
   "outputs": [],
   "source": [
    "alistofdic = [{\"items\":[1,2,3,4,5], 'price':[22,33,44]} ,\n",
    "             {'students':['A','B','C','D'],'rollnum': [124,125,126,127]},]"
   ]
  },
  {
   "cell_type": "code",
   "execution_count": 11,
   "metadata": {},
   "outputs": [
    {
     "data": {
      "text/plain": [
       "'C'"
      ]
     },
     "execution_count": 11,
     "metadata": {},
     "output_type": "execute_result"
    }
   ],
   "source": [
    "#acessing elements\n",
    "alistofdic[1]['students'][2]"
   ]
  },
  {
   "cell_type": "code",
   "execution_count": 14,
   "metadata": {},
   "outputs": [
    {
     "name": "stdout",
     "output_type": "stream",
     "text": [
      "124\n",
      "125\n",
      "126\n",
      "127\n"
     ]
    }
   ],
   "source": [
    "for mem in range (len(alistofdic)):\n",
    "    if \"rollnum\" in alistofdic[mem]:\n",
    "        for rn in alistofdic[mem]['rollnum']:\n",
    "            print(rn)"
   ]
  },
  {
   "cell_type": "code",
   "execution_count": 15,
   "metadata": {},
   "outputs": [
    {
     "name": "stdout",
     "output_type": "stream",
     "text": [
      "{'colour': 'green', 'points': 5}\n",
      "{'colour': 'yellow', 'points': 100}\n",
      "{'colour': 'red', 'points': 15}\n"
     ]
    }
   ],
   "source": [
    "aline0 = {'colour': 'green' , 'points': 5}\n",
    "aline1 = {'colour' : 'yellow','points':100}\n",
    "aline2 = {'colour':'red' ,'points': 15}\n",
    "alines = [aline0 , aline1, aline2]\n",
    "\n",
    "for aline in alines:\n",
    "    print(aline)"
   ]
  },
  {
   "cell_type": "code",
   "execution_count": 22,
   "metadata": {},
   "outputs": [],
   "source": [
    "for aline_number in range (30):\n",
    "    new_aline = {'colour': 'green' ,'points': 5, 'speed':'slow'}\n",
    "    alines.append(new_aline)"
   ]
  },
  {
   "cell_type": "code",
   "execution_count": 23,
   "metadata": {},
   "outputs": [
    {
     "name": "stdout",
     "output_type": "stream",
     "text": [
      "{'colour': 'green', 'points': 5}\n",
      "{'colour': 'yellow', 'points': 100}\n",
      "{'colour': 'red', 'points': 15}\n",
      "{'colour': 'green', 'points': 5, 'speed': 'slow'}\n",
      "{'colour': 'green', 'points': 5, 'speed': 'slow'}\n",
      "..\n"
     ]
    }
   ],
   "source": [
    "for aline in alines[:5]:\n",
    "    print(aline)\n",
    "print(\"..\")"
   ]
  },
  {
   "cell_type": "code",
   "execution_count": 24,
   "metadata": {},
   "outputs": [
    {
     "name": "stdout",
     "output_type": "stream",
     "text": [
      "Total number of alines: 63\n"
     ]
    }
   ],
   "source": [
    "print(\"Total number of alines: \" + str(len(alines)))\n"
   ]
  },
  {
   "cell_type": "markdown",
   "metadata": {},
   "source": [
    "# ALIST IN A DICTIONARY"
   ]
  },
  {
   "cell_type": "code",
   "execution_count": 25,
   "metadata": {},
   "outputs": [],
   "source": [
    " # Store information about a pizza being ordered. \n",
    "pizza = {'crust': 'thick','toppings': ['mushrooms', 'extra cheese'],}\n"
   ]
  },
  {
   "cell_type": "code",
   "execution_count": 27,
   "metadata": {},
   "outputs": [
    {
     "name": "stdout",
     "output_type": "stream",
     "text": [
      "You ordered a thick-crust pizza with the following toppings:\n",
      "\tmushrooms\n",
      "\textra cheese\n"
     ]
    }
   ],
   "source": [
    "# Summarize the order.\n",
    "print(\"You ordered a \" + pizza['crust'] +\"-crust pizza \"+\"with the following toppings:\")\n",
    "for topping in pizza['toppings']:    \n",
    "    print(\"\\t\" + topping)"
   ]
  },
  {
   "cell_type": "code",
   "execution_count": 29,
   "metadata": {},
   "outputs": [],
   "source": [
    "favorite_languages = { 'jen': ['python', 'ruby'],   \n",
    "                      'sarah': ['c'],    \n",
    "                      'edward': ['ruby', 'go'],    \n",
    "                      'phil': ['python', 'haskell'], }\n"
   ]
  },
  {
   "cell_type": "code",
   "execution_count": 30,
   "metadata": {},
   "outputs": [
    {
     "name": "stdout",
     "output_type": "stream",
     "text": [
      "\n",
      "Jen's favorite languages are:\n",
      "\tPython\n",
      "\tRuby\n",
      "\n",
      "Sarah's favorite languages are:\n",
      "\tC\n",
      "\n",
      "Edward's favorite languages are:\n",
      "\tRuby\n",
      "\tGo\n",
      "\n",
      "Phil's favorite languages are:\n",
      "\tPython\n",
      "\tHaskell\n"
     ]
    }
   ],
   "source": [
    "for name, languages in favorite_languages.items():    \n",
    "    print(\"\\n\" + name.title() + \"'s favorite languages are:\")  \n",
    "    for language in languages:        \n",
    "        print(\"\\t\" + language.title())\n"
   ]
  },
  {
   "cell_type": "code",
   "execution_count": 33,
   "metadata": {},
   "outputs": [],
   "source": [
    "users ={'aeinstein': { 'first': 'albert', 'last': 'einstein', 'location': 'princeton',}, \n",
    "        'mcurie': { 'first': 'marie', 'last': 'curie', 'location': 'paris', },\n",
    "    }\n"
   ]
  },
  {
   "cell_type": "code",
   "execution_count": 34,
   "metadata": {},
   "outputs": [
    {
     "name": "stdout",
     "output_type": "stream",
     "text": [
      "\n",
      "Username: aeinstein\n",
      "\tFull name: Albert Einstein\n",
      "\tLocation: Princeton\n",
      "\n",
      "Username: mcurie\n",
      "\tFull name: Marie Curie\n",
      "\tLocation: Paris\n"
     ]
    }
   ],
   "source": [
    "for username, user_info in users.items(): \n",
    "    print(\"\\nUsername: \" + username) \n",
    "    full_name = user_info['first'] + \" \" + user_info['last']    \n",
    "    location = user_info['location']\n",
    "    print(\"\\tFull name: \" + full_name.title())   \n",
    "    print(\"\\tLocation: \" + location.title())\n",
    "\n"
   ]
  },
  {
   "cell_type": "markdown",
   "metadata": {},
   "source": [
    "# DICTIONARYOF DIC"
   ]
  },
  {
   "cell_type": "code",
   "execution_count": 42,
   "metadata": {},
   "outputs": [],
   "source": [
    "dicofdic = {'saylani':\n",
    "            {'smit':['web','ds','ccna','ai'],\n",
    "           'health':['opd','ot']\n",
    "           },\n",
    "            'university':\n",
    "            {'CS':['1st','2nd','3rd','4th'],\n",
    "            'admin':['fees','timetable','exams']}\n",
    "           }"
   ]
  },
  {
   "cell_type": "code",
   "execution_count": 45,
   "metadata": {},
   "outputs": [
    {
     "name": "stdout",
     "output_type": "stream",
     "text": [
      "True\n"
     ]
    }
   ],
   "source": [
    "for pk,pv in dicofdic.items():\n",
    "    if pk=='university':\n",
    "        for uk,uv in pv.items():\n",
    "            if uk=='admin':\n",
    "                print('exams' in uv)"
   ]
  },
  {
   "cell_type": "markdown",
   "metadata": {},
   "source": [
    "# while LOOps"
   ]
  },
  {
   "cell_type": "code",
   "execution_count": 46,
   "metadata": {},
   "outputs": [
    {
     "name": "stdout",
     "output_type": "stream",
     "text": [
      "enter fav langc\n",
      "enter fav langc\n",
      "enter fav langc\n",
      "enter fav langc\n"
     ]
    },
    {
     "data": {
      "text/plain": [
       "['c', 'c', 'c', 'c']"
      ]
     },
     "execution_count": 46,
     "metadata": {},
     "output_type": "execute_result"
    }
   ],
   "source": [
    "fav_languages=[]\n",
    "for lang in range(4):\n",
    "    fav_lang =input(\"enter fav lang\")\n",
    "    fav_languages.append(fav_lang)\n",
    "fav_languages"
   ]
  },
  {
   "cell_type": "code",
   "execution_count": null,
   "metadata": {},
   "outputs": [],
   "source": []
  }
 ],
 "metadata": {
  "kernelspec": {
   "display_name": "Python 3",
   "language": "python",
   "name": "python3"
  },
  "language_info": {
   "codemirror_mode": {
    "name": "ipython",
    "version": 3
   },
   "file_extension": ".py",
   "mimetype": "text/x-python",
   "name": "python",
   "nbconvert_exporter": "python",
   "pygments_lexer": "ipython3",
   "version": "3.7.6"
  }
 },
 "nbformat": 4,
 "nbformat_minor": 4
}
