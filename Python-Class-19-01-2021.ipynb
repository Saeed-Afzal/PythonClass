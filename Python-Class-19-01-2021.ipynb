{
 "cells": [
  {
   "cell_type": "markdown",
   "metadata": {},
   "source": [
    "# Python Class 19/01/2021"
   ]
  },
  {
   "cell_type": "code",
   "execution_count": 1,
   "metadata": {},
   "outputs": [
    {
     "name": "stdout",
     "output_type": "stream",
     "text": [
      "\n",
      "What is your name? Saeed\n",
      "Which mountain would you like to climb someday? everest\n",
      "Would you like to let another person respond? (yes/ no) yes\n",
      "\n",
      "What is your name? adeel\n",
      "Which mountain would you like to climb someday? mount\n",
      "Would you like to let another person respond? (yes/ no) no\n",
      "\n",
      "--- Poll Results ---\n",
      "Saeed would like to climb everest.\n",
      "adeel would like to climb mount.\n"
     ]
    }
   ],
   "source": [
    "#Example page no: 130\n",
    "responses = {}                                      #empty dictionary\n",
    "polling_active = True                              #while loop true hogaya \n",
    "while polling_active:   \n",
    "    # Prompt for the person's name and response.   \n",
    "    name = input(\"\\nWhat is your name? \")          #input lia aur 1 variable me store kradia : key bnadia\n",
    "    response = input(\"Which mountain would you like to climb someday? \")            #input lia aur 1 variable me store kradia : value bnadi\n",
    "    # Store the response in the dictionary:   \n",
    "    responses[name] = response        \n",
    "    # Find out if anyone else is going to take the poll.    \n",
    "    repeat = input(\"Would you like to let another person respond? (yes/ no) \")    \n",
    "    if repeat == 'no':       \n",
    "        polling_active = False        \n",
    " # Polling is complete. Show the results. \n",
    "print(\"\\n--- Poll Results ---\")  \n",
    "for name, response in responses.items():    \n",
    "        print(name + \" would like to climb \" + response + \".\")"
   ]
  },
  {
   "cell_type": "code",
   "execution_count": 2,
   "metadata": {},
   "outputs": [
    {
     "name": "stdout",
     "output_type": "stream",
     "text": [
      "2\n",
      "3\n"
     ]
    },
    {
     "data": {
      "text/plain": [
       "5"
      ]
     },
     "execution_count": 2,
     "metadata": {},
     "output_type": "execute_result"
    }
   ],
   "source": [
    "#function define\n",
    "#function call\n",
    "\n",
    "def adding():\n",
    "    #agr hmen koi text likhna ho function me jo hmen btae k ye function kis ne bnaya hai q bnaya ha to hm aise likhen gay function k start pr hypens use kr k eg: This function take...\n",
    "    '''This function take no arguments                     \n",
    "    it returns the sum of two integers by users\n",
    "    This function is made by me'''\n",
    "    n1 = int(input())\n",
    "    n2 = int(input())\n",
    "    return n1 + n2\n",
    "adding()"
   ]
  },
  {
   "cell_type": "code",
   "execution_count": 3,
   "metadata": {},
   "outputs": [
    {
     "name": "stdout",
     "output_type": "stream",
     "text": [
      "Help on function adding in module __main__:\n",
      "\n",
      "adding()\n",
      "    This function take no arguments                     \n",
      "    it returns the sum of two integers by users\n",
      "    This function is made by me\n",
      "\n"
     ]
    }
   ],
   "source": [
    "help(adding)              # ye function ka btae ga"
   ]
  },
  {
   "cell_type": "code",
   "execution_count": 13,
   "metadata": {},
   "outputs": [],
   "source": [
    "#function define\n",
    "#function call\n",
    "\n",
    "def adding(a,b):\n",
    "    #agr hmen koi text likhna ho function me jo hmen btae k ye function kis ne bnaya hai q bnaya ha to hm aise likhen gay function k start pr hypens use kr k eg: This function take...\n",
    "    '''This function take arguments                     \n",
    "    it returns the sum of two integers by users\n",
    "    This function is made by me'''\n",
    "    return a + b + 10\n"
   ]
  },
  {
   "cell_type": "code",
   "execution_count": 14,
   "metadata": {},
   "outputs": [
    {
     "name": "stdout",
     "output_type": "stream",
     "text": [
      "2\n",
      "2\n"
     ]
    },
    {
     "data": {
      "text/plain": [
       "14"
      ]
     },
     "execution_count": 14,
     "metadata": {},
     "output_type": "execute_result"
    }
   ],
   "source": [
    "\n",
    "    m = int(input())\n",
    "    n = int(input())\n",
    "adding(m,n)"
   ]
  },
  {
   "cell_type": "markdown",
   "metadata": {},
   "source": [
    "\n",
    "# Positional Arguments"
   ]
  },
  {
   "cell_type": "code",
   "execution_count": 17,
   "metadata": {},
   "outputs": [],
   "source": [
    "def full_name(first_name, middle_name, last_name):\n",
    "    return first_name + middle_name + last_name"
   ]
  },
  {
   "cell_type": "code",
   "execution_count": 24,
   "metadata": {},
   "outputs": [
    {
     "data": {
      "text/plain": [
       "'Saeed Afzal'"
      ]
     },
     "execution_count": 24,
     "metadata": {},
     "output_type": "execute_result"
    }
   ],
   "source": [
    "full_name(\"Saeed\", \" \" ,\"Afzal\")"
   ]
  },
  {
   "cell_type": "markdown",
   "metadata": {},
   "source": [
    "\n",
    "# Keyword Arguments"
   ]
  },
  {
   "cell_type": "code",
   "execution_count": 25,
   "metadata": {},
   "outputs": [
    {
     "data": {
      "text/plain": [
       "'Syed Muhammad Saeed'"
      ]
     },
     "execution_count": 25,
     "metadata": {},
     "output_type": "execute_result"
    }
   ],
   "source": [
    "full_name(middle_name = 'Muhammad ', first_name = 'Syed ', last_name = 'Saeed')     #define krdena names ko"
   ]
  },
  {
   "cell_type": "code",
   "execution_count": 26,
   "metadata": {},
   "outputs": [],
   "source": [
    "def data_collection():\n",
    "    pass       # abi function ki body nhi pata to ---pass--- ka keyword laga sakte hain"
   ]
  },
  {
   "cell_type": "code",
   "execution_count": 27,
   "metadata": {},
   "outputs": [],
   "source": [
    "def abc(x,y,z):\n",
    "    print(x,y,z)"
   ]
  },
  {
   "cell_type": "code",
   "execution_count": 29,
   "metadata": {},
   "outputs": [
    {
     "ename": "SyntaxError",
     "evalue": "positional argument follows keyword argument (<ipython-input-29-63605584a89e>, line 1)",
     "output_type": "error",
     "traceback": [
      "\u001b[1;36m  File \u001b[1;32m\"<ipython-input-29-63605584a89e>\"\u001b[1;36m, line \u001b[1;32m1\u001b[0m\n\u001b[1;33m    abc(x=12, 23,z=21)\u001b[0m\n\u001b[1;37m             ^\u001b[0m\n\u001b[1;31mSyntaxError\u001b[0m\u001b[1;31m:\u001b[0m positional argument follows keyword argument\n"
     ]
    }
   ],
   "source": [
    "abc(x=12, 23,z=21) # error ye hai k positional argument k peechy keywork argument hona chahiye. matlb 23 sb se phele hona chahiye"
   ]
  },
  {
   "cell_type": "code",
   "execution_count": 34,
   "metadata": {},
   "outputs": [
    {
     "name": "stdout",
     "output_type": "stream",
     "text": [
      "23 12 21\n"
     ]
    }
   ],
   "source": [
    "abc( 23, y=12,z=21)"
   ]
  },
  {
   "cell_type": "markdown",
   "metadata": {},
   "source": [
    "8-3. T-Shirt: Write a function called make_shirt() that accepts a size and the text of a message that should be printed on the shirt . The function should print a sentence summarizing the size of the shirt and the message printed on it . Call the function once using positional arguments to make a shirt . Call the function a second time using keyword arguments ."
   ]
  },
  {
   "cell_type": "code",
   "execution_count": null,
   "metadata": {},
   "outputs": [],
   "source": [
    "def make_shirt(s,t):\n",
    "    sizeofShirt = int(input(\"Size of the shirt\"))\n",
    "    textofShirt = input(\"Write Text that should be printed on the shirt\")\n",
    "    s=sizeofShirt\n",
    "    t=textofShirt\n",
    "    return s,t"
   ]
  },
  {
   "cell_type": "code",
   "execution_count": null,
   "metadata": {},
   "outputs": [],
   "source": [
    "make_shirt(30, 'new')"
   ]
  },
  {
   "cell_type": "code",
   "execution_count": 2,
   "metadata": {},
   "outputs": [
    {
     "name": "stdout",
     "output_type": "stream",
     "text": [
      "{'first': 'jimi', 'last': 'hendrix'}\n"
     ]
    }
   ],
   "source": [
    "#example pg#142\n",
    "def build_person(first_name, last_name):\n",
    "    \"\"\"Return a dictionary of information about a person.\"\"\" \n",
    "    person = {'first': first_name, 'last': last_name}   \n",
    "    return person\n",
    "musician = build_person('jimi', 'hendrix')\n",
    "print(musician)"
   ]
  },
  {
   "cell_type": "code",
   "execution_count": 7,
   "metadata": {},
   "outputs": [
    {
     "name": "stdout",
     "output_type": "stream",
     "text": [
      "{'first': 'jimi', 'last': 'hendrix', 'age': 27}\n"
     ]
    }
   ],
   "source": [
    "#example pg#144\n",
    "def build_person(first_name, last_name, age=''): \n",
    "    \"\"\"Return a dictionary of information about a person.\"\"\"   \n",
    "    person = {'first': first_name, 'last': last_name}  \n",
    "    if age:           # yahan condition nhi hai mtlb agr condition na ho to wo sb pr true hai lekin zero pr nhi hai\n",
    "        person['age'] = age \n",
    "        return person\n",
    "musician = build_person('jimi', 'hendrix', age=27)\n",
    "print(musician)"
   ]
  },
  {
   "cell_type": "code",
   "execution_count": 8,
   "metadata": {},
   "outputs": [
    {
     "data": {
      "text/plain": [
       "1"
      ]
     },
     "execution_count": 8,
     "metadata": {},
     "output_type": "execute_result"
    }
   ],
   "source": [
    "1 or ' '"
   ]
  },
  {
   "cell_type": "code",
   "execution_count": 9,
   "metadata": {},
   "outputs": [
    {
     "data": {
      "text/plain": [
       "1"
      ]
     },
     "execution_count": 9,
     "metadata": {},
     "output_type": "execute_result"
    }
   ],
   "source": [
    "1 or 5"
   ]
  },
  {
   "cell_type": "code",
   "execution_count": 10,
   "metadata": {},
   "outputs": [
    {
     "data": {
      "text/plain": [
       "1"
      ]
     },
     "execution_count": 10,
     "metadata": {},
     "output_type": "execute_result"
    }
   ],
   "source": [
    "1 or '5'"
   ]
  },
  {
   "cell_type": "code",
   "execution_count": 11,
   "metadata": {},
   "outputs": [
    {
     "data": {
      "text/plain": [
       "' '"
      ]
     },
     "execution_count": 11,
     "metadata": {},
     "output_type": "execute_result"
    }
   ],
   "source": [
    "0 or ' '"
   ]
  },
  {
   "cell_type": "code",
   "execution_count": 12,
   "metadata": {},
   "outputs": [
    {
     "data": {
      "text/plain": [
       "1"
      ]
     },
     "execution_count": 12,
     "metadata": {},
     "output_type": "execute_result"
    }
   ],
   "source": [
    "0 or 1"
   ]
  },
  {
   "cell_type": "code",
   "execution_count": 13,
   "metadata": {},
   "outputs": [
    {
     "data": {
      "text/plain": [
       "0"
      ]
     },
     "execution_count": 13,
     "metadata": {},
     "output_type": "execute_result"
    }
   ],
   "source": [
    "0 and 1"
   ]
  },
  {
   "cell_type": "code",
   "execution_count": 14,
   "metadata": {},
   "outputs": [
    {
     "data": {
      "text/plain": [
       "''"
      ]
     },
     "execution_count": 14,
     "metadata": {},
     "output_type": "execute_result"
    }
   ],
   "source": [
    "1 and ''"
   ]
  },
  {
   "cell_type": "code",
   "execution_count": 17,
   "metadata": {},
   "outputs": [
    {
     "name": "stdout",
     "output_type": "stream",
     "text": [
      "1st Value55\n",
      "2nd Value44\n",
      "3rd Value55\n",
      "4th Value66\n",
      "5th Value22\n"
     ]
    },
    {
     "data": {
      "text/plain": [
       "66"
      ]
     },
     "execution_count": 17,
     "metadata": {},
     "output_type": "execute_result"
    }
   ],
   "source": [
    "#user se 5 values leni hain or btana hai sb se bari value kia hai\n",
    "#Answer 1\n",
    "def max_value(n1,n2,n3,n4,n5):\n",
    "    n1 = int(input(\"1st Value\"))\n",
    "    n2 = int(input(\"2nd Value\"))\n",
    "    n3 = int(input(\"3rd Value\"))\n",
    "    n4 = int(input(\"4th Value\"))\n",
    "    n5 = int(input(\"5th Value\"))\n",
    "    return max(n1,n2,n3,n4,n5)\n",
    "max_value(1,2,3,4,5)\n"
   ]
  },
  {
   "cell_type": "code",
   "execution_count": 21,
   "metadata": {},
   "outputs": [
    {
     "name": "stdout",
     "output_type": "stream",
     "text": [
      "Enter a number 2\n",
      "Enter a number 4\n",
      "Enter a number 7\n",
      "Enter a number 8\n",
      "Enter a number 6\n"
     ]
    },
    {
     "data": {
      "text/plain": [
       "8"
      ]
     },
     "execution_count": 21,
     "metadata": {},
     "output_type": "execute_result"
    }
   ],
   "source": [
    "#user se 5 values leni hain or btana hai sb se bari value kia hai\n",
    "#Answer 2\n",
    "def max_finder():\n",
    "    nums = []\n",
    "    for a in range(5):\n",
    "        num = int(input(\"Enter a number \"))\n",
    "        nums.append(num)\n",
    "        maxNum = max(nums)\n",
    "    return maxNum\n",
    "max_finder()"
   ]
  },
  {
   "cell_type": "code",
   "execution_count": 22,
   "metadata": {},
   "outputs": [
    {
     "name": "stdout",
     "output_type": "stream",
     "text": [
      "Enter a number 1\n",
      "Enter a number 4\n",
      "Enter a number 7\n",
      "Enter a number 52\n",
      "Enter a number 5\n"
     ]
    },
    {
     "data": {
      "text/plain": [
       "52"
      ]
     },
     "execution_count": 22,
     "metadata": {},
     "output_type": "execute_result"
    }
   ],
   "source": [
    "#user se 5 values leni hain or btana hai sb se bari value kia hai\n",
    "#Answer 3\n",
    "def max_finder():\n",
    "    nums = []\n",
    "    for a in range(5):\n",
    "        num = int(input(\"Enter a number \"))\n",
    "        nums.append(num)    \n",
    "    return max(nums)\n",
    "max_finder()"
   ]
  },
  {
   "cell_type": "code",
   "execution_count": 23,
   "metadata": {},
   "outputs": [
    {
     "name": "stdout",
     "output_type": "stream",
     "text": [
      "1\n",
      "2\n",
      "4\n",
      "5\n",
      "3\n"
     ]
    },
    {
     "data": {
      "text/plain": [
       "5"
      ]
     },
     "execution_count": 23,
     "metadata": {},
     "output_type": "execute_result"
    }
   ],
   "source": [
    "# One Line Code for calculating greater number\n",
    "#user se 5 values leni hain or btana hai sb se bari value kia hai\n",
    "#Answer 4\n",
    "def max_finder():  \n",
    "    return max([int(input()) for i in range(5)])\n",
    "max_finder()"
   ]
  },
  {
   "cell_type": "code",
   "execution_count": 26,
   "metadata": {},
   "outputs": [
    {
     "name": "stdout",
     "output_type": "stream",
     "text": [
      "Enter Numbers 1,2,3,4,5,6,7,8,9\n"
     ]
    },
    {
     "data": {
      "text/plain": [
       "9"
      ]
     },
     "execution_count": 26,
     "metadata": {},
     "output_type": "execute_result"
    }
   ],
   "source": [
    "#user se 5 values leni hain or btana hai sb se bari value kia hai\n",
    "#Answer 5\n",
    "def max_finder():  \n",
    "    nums = input(\"Enter Numbers \").split(',')              \n",
    "    return max([int(i) for i in nums])\n",
    "max_finder()"
   ]
  },
  {
   "cell_type": "code",
   "execution_count": null,
   "metadata": {},
   "outputs": [],
   "source": []
  }
 ],
 "metadata": {
  "kernelspec": {
   "display_name": "Python 3",
   "language": "python",
   "name": "python3"
  },
  "language_info": {
   "codemirror_mode": {
    "name": "ipython",
    "version": 3
   },
   "file_extension": ".py",
   "mimetype": "text/x-python",
   "name": "python",
   "nbconvert_exporter": "python",
   "pygments_lexer": "ipython3",
   "version": "3.7.6"
  }
 },
 "nbformat": 4,
 "nbformat_minor": 4
}
