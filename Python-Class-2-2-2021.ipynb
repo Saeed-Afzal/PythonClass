{
 "cells": [
  {
   "cell_type": "markdown",
   "metadata": {},
   "source": [
    "# Python Class 2/2/2021"
   ]
  },
  {
   "cell_type": "code",
   "execution_count": 10,
   "metadata": {},
   "outputs": [
    {
     "name": "stdout",
     "output_type": "stream",
     "text": [
      "2016 Audi A4\n"
     ]
    }
   ],
   "source": [
    " class Car():   \n",
    "        \"\"\"A simple attempt to represent a car.\"\"\"\n",
    "        def __init__(self, make, model, year):      \n",
    "            \"\"\"Initialize attributes to describe a car.\"\"\"    \n",
    "            self.make = make        \n",
    "            self.model = model       \n",
    "            self.year = year \n",
    "        def get_descriptive_name(self):       \n",
    "            \"\"\"Return a neatly formatted descriptive name.\"\"\"      \n",
    "            long_name = str(self.year) + ' ' + self.make + ' ' + self.model       \n",
    "            return long_name.title() \n",
    "my_new_car = Car('audi', 'a4', 2016)\n",
    "print(my_new_car.get_descriptive_name())"
   ]
  },
  {
   "cell_type": "code",
   "execution_count": 7,
   "metadata": {},
   "outputs": [
    {
     "name": "stdout",
     "output_type": "stream",
     "text": [
      "2019 Honda A4\n"
     ]
    }
   ],
   "source": [
    "car1 = Car('honda', 'a4', 2019)\n",
    "print(car1.get_descriptive_name())"
   ]
  },
  {
   "cell_type": "markdown",
   "metadata": {},
   "source": [
    "# Setting a Default Value for an Attribute"
   ]
  },
  {
   "cell_type": "code",
   "execution_count": 11,
   "metadata": {},
   "outputs": [
    {
     "name": "stdout",
     "output_type": "stream",
     "text": [
      "2016 Audi A4\n"
     ]
    }
   ],
   "source": [
    " class Car():   \n",
    "        \"\"\"A simple attempt to represent a car.\"\"\"\n",
    "        def __init__(self, make, model, year):      \n",
    "            \"\"\"Initialize attributes to describe a car.\"\"\"    \n",
    "            self.make = make        \n",
    "            self.model = model       \n",
    "            self.year = year \n",
    "            self.odometer_reading = 0    # overall kitne meter car chali hai\n",
    "        def get_descriptive_name(self):       \n",
    "            \"\"\"Return a neatly formatted descriptive name.\"\"\"      \n",
    "            long_name = str(self.year) + ' ' + self.make + ' ' + self.model       \n",
    "            return long_name.title() \n",
    "        def read_odometer(self):        \n",
    "            \"\"\"Print a statement showing the car's mileage.\"\"\"        \n",
    "            print(\"This car has \" + str(self.odometer_reading) + \" miles on it.\")\n",
    "        \n",
    "my_new_car = Car('audi', 'a4', 2016)\n",
    "print(my_new_car.get_descriptive_name())"
   ]
  },
  {
   "cell_type": "code",
   "execution_count": 13,
   "metadata": {},
   "outputs": [],
   "source": [
    "car1 = Car('honda', 'a4', 2019)"
   ]
  },
  {
   "cell_type": "code",
   "execution_count": 14,
   "metadata": {},
   "outputs": [
    {
     "name": "stdout",
     "output_type": "stream",
     "text": [
      "This car has 0 miles on it.\n"
     ]
    }
   ],
   "source": [
    "car1.read_odometer()"
   ]
  },
  {
   "cell_type": "markdown",
   "metadata": {},
   "source": [
    "# Changing an attribute\n",
    "\n",
    "1. Direct hit\n",
    "2. Via function"
   ]
  },
  {
   "cell_type": "code",
   "execution_count": 15,
   "metadata": {},
   "outputs": [],
   "source": [
    "#Direct hit (Dangerous way)\n",
    "car1.odometer_reading = 50"
   ]
  },
  {
   "cell_type": "code",
   "execution_count": 16,
   "metadata": {},
   "outputs": [
    {
     "name": "stdout",
     "output_type": "stream",
     "text": [
      "This car has 50 miles on it.\n"
     ]
    }
   ],
   "source": [
    "car1.read_odometer()"
   ]
  },
  {
   "cell_type": "code",
   "execution_count": 54,
   "metadata": {},
   "outputs": [],
   "source": [
    " class Car():   \n",
    "        \"\"\"A simple attempt to represent a car.\"\"\"\n",
    "        def __init__(self, make, model, year):      \n",
    "            \"\"\"Initialize attributes to describe a car.\"\"\"    \n",
    "            self.make = make        \n",
    "            self.model = model       \n",
    "            self.year = year \n",
    "            self.odometer_reading = 0    # overall kitne meter car chali hai\n",
    "        def get_descriptive_name(self):       \n",
    "            \"\"\"Return a neatly formatted descriptive name.\"\"\"      \n",
    "            long_name = str(self.year) + ' ' + self.make + ' ' + self.model       \n",
    "            return long_name.title()\n",
    "        def set_odometer(self,mileage):\n",
    "            self.odometer_reading = mileage\n",
    "        def get_odometer(self):        \n",
    "            \"\"\"Print a statement showing the car's mileage.\"\"\"        \n",
    "            print(\"This car has \" + str(self.odometer_reading) + \" miles on it.\")"
   ]
  },
  {
   "cell_type": "code",
   "execution_count": 42,
   "metadata": {},
   "outputs": [],
   "source": [
    "car2 = Car(\"Auto\", \"City\", 2020)"
   ]
  },
  {
   "cell_type": "code",
   "execution_count": 43,
   "metadata": {},
   "outputs": [
    {
     "name": "stdout",
     "output_type": "stream",
     "text": [
      "This car has 0 miles on it.\n"
     ]
    }
   ],
   "source": [
    "car2.get_odometer()"
   ]
  },
  {
   "cell_type": "code",
   "execution_count": 44,
   "metadata": {},
   "outputs": [],
   "source": [
    "car2.set_odometer(500)"
   ]
  },
  {
   "cell_type": "code",
   "execution_count": 45,
   "metadata": {},
   "outputs": [
    {
     "name": "stdout",
     "output_type": "stream",
     "text": [
      "This car has 500 miles on it.\n"
     ]
    }
   ],
   "source": [
    "car2.get_odometer()"
   ]
  },
  {
   "cell_type": "code",
   "execution_count": 46,
   "metadata": {},
   "outputs": [],
   "source": [
    "car3 = Car(\"Aqua\", \"aquz\", 2002)"
   ]
  },
  {
   "cell_type": "code",
   "execution_count": 47,
   "metadata": {},
   "outputs": [
    {
     "name": "stdout",
     "output_type": "stream",
     "text": [
      "This car has 0 miles on it.\n"
     ]
    }
   ],
   "source": [
    "car3.get_odometer()"
   ]
  },
  {
   "cell_type": "code",
   "execution_count": 52,
   "metadata": {},
   "outputs": [],
   "source": [
    "car3.set_odometer(400)"
   ]
  },
  {
   "cell_type": "code",
   "execution_count": 53,
   "metadata": {},
   "outputs": [
    {
     "name": "stdout",
     "output_type": "stream",
     "text": [
      "This car has 400 miles on it.\n"
     ]
    }
   ],
   "source": [
    "car3.get_odometer()"
   ]
  },
  {
   "cell_type": "code",
   "execution_count": 67,
   "metadata": {},
   "outputs": [],
   "source": [
    "class employee():\n",
    "    def __init__(self,name,designation,salary,department,phone):                     #ye constructor line must aise hi likhna hai: __init__(self)\n",
    "        self.employee_name = name\n",
    "        self.employee_designation = designation\n",
    "        self.employee_salary = salary\n",
    "        self.employee_department = department\n",
    "        self.employee_phone = phone\n",
    "        print('Employee is Created')\n",
    "    def work(self):\n",
    "        print(self.employee_name + \" is working\")\n",
    "    def set_inc(self,salaryInc):\n",
    "            self.employee_salary = self.employee_salary + salaryInc\n",
    "    def get_inc(self):        \n",
    "            \"\"\"Print a statement showing the car's mileage.\"\"\"        \n",
    "            print(\"Employee has \" + str(self.employee_salary) + \" salary.\")"
   ]
  },
  {
   "cell_type": "code",
   "execution_count": 68,
   "metadata": {},
   "outputs": [
    {
     "name": "stdout",
     "output_type": "stream",
     "text": [
      "Employee is Created\n"
     ]
    }
   ],
   "source": [
    "emp1 = employee(\"Ali\", \"manager\", 2000,\"CS\",\"03001234567\")   # salary = 2000"
   ]
  },
  {
   "cell_type": "code",
   "execution_count": 69,
   "metadata": {},
   "outputs": [
    {
     "name": "stdout",
     "output_type": "stream",
     "text": [
      "Employee has 2000 salary.\n"
     ]
    }
   ],
   "source": [
    "emp1.get_inc()"
   ]
  },
  {
   "cell_type": "code",
   "execution_count": 70,
   "metadata": {},
   "outputs": [],
   "source": [
    "emp1.set_inc(1000) #1000 ka increment krdia hai"
   ]
  },
  {
   "cell_type": "code",
   "execution_count": 71,
   "metadata": {},
   "outputs": [
    {
     "name": "stdout",
     "output_type": "stream",
     "text": [
      "Employee has 3000 salary.\n"
     ]
    }
   ],
   "source": [
    "emp1.get_inc()  #phele 2000 thi ab 3000 hogai"
   ]
  },
  {
   "cell_type": "markdown",
   "metadata": {},
   "source": [
    "# Inheritance\n"
   ]
  },
  {
   "cell_type": "code",
   "execution_count": 72,
   "metadata": {},
   "outputs": [],
   "source": [
    "#ek class ko inherit krate hain ta k uska sara code child class me aajaen\n",
    "#eg: employee is a human\n",
    "\n",
    "\n",
    "class ElectricCar(Car):\n",
    "    def __init__(self,make,model,year):\n",
    "        super().__init__(make, model, year)\n"
   ]
  },
  {
   "cell_type": "code",
   "execution_count": 74,
   "metadata": {},
   "outputs": [
    {
     "name": "stdout",
     "output_type": "stream",
     "text": [
      "2016 Tesla Model S\n"
     ]
    }
   ],
   "source": [
    "my_tesla = ElectricCar('tesla', 'model s', 2016) \n",
    "print(my_tesla.get_descriptive_name())"
   ]
  },
  {
   "cell_type": "code",
   "execution_count": 75,
   "metadata": {},
   "outputs": [
    {
     "data": {
      "text/plain": [
       "'2016 Tesla Model S'"
      ]
     },
     "execution_count": 75,
     "metadata": {},
     "output_type": "execute_result"
    }
   ],
   "source": [
    "my_tesla.get_descriptive_name()"
   ]
  },
  {
   "cell_type": "code",
   "execution_count": 76,
   "metadata": {},
   "outputs": [
    {
     "name": "stdout",
     "output_type": "stream",
     "text": [
      "This car has 0 miles on it.\n"
     ]
    }
   ],
   "source": [
    "my_tesla.get_odometer()"
   ]
  },
  {
   "cell_type": "code",
   "execution_count": 77,
   "metadata": {},
   "outputs": [],
   "source": [
    "my_tesla.set_odometer(200)"
   ]
  },
  {
   "cell_type": "code",
   "execution_count": 79,
   "metadata": {},
   "outputs": [
    {
     "name": "stdout",
     "output_type": "stream",
     "text": [
      "This car has 200 miles on it.\n"
     ]
    }
   ],
   "source": [
    "my_tesla.get_odometer()"
   ]
  },
  {
   "cell_type": "code",
   "execution_count": 93,
   "metadata": {},
   "outputs": [],
   "source": [
    "#Python book pg:172 or pdf pg:205\n",
    "class Car1():\n",
    "    \"\"\"A simple attempt to represent a car.\"\"\"\n",
    "    def __init__(self, make, model, year):        \n",
    "        self.make = make        \n",
    "        self.model = model        \n",
    "        self.year = year        \n",
    "        self.odometer_reading = 0            \n",
    "    def get_descriptive_name(self):        \n",
    "        long_name = str(self.year) + ' ' + self.make + ' ' + self.model        \n",
    "        return long_name.title()       \n",
    "    def read_odometer(self):        \n",
    "        print(\"This car has \" + str(self.odometer_reading) + \" miles on it.\")            \n",
    "    def update_odometer(self, mileage):        \n",
    "        if mileage >= self.odometer_reading:            \n",
    "            self.odometer_reading = mileage        \n",
    "        else:            \n",
    "            print(\"You can't roll back an odometer!\")       \n",
    "    def increment_odometer(self, miles):        \n",
    "        self.odometer_reading += miles\n"
   ]
  },
  {
   "cell_type": "code",
   "execution_count": 94,
   "metadata": {},
   "outputs": [],
   "source": [
    " class ElectricCar1(Car1):\n",
    "        def __init__(self, make, model, year):        \n",
    "            \"\"\"Initialize attributes of the parent class.\"\"\"         \n",
    "            super().__init__(make, model, year)"
   ]
  },
  {
   "cell_type": "code",
   "execution_count": 95,
   "metadata": {},
   "outputs": [
    {
     "name": "stdout",
     "output_type": "stream",
     "text": [
      "2016 Tesla Model S\n"
     ]
    }
   ],
   "source": [
    "my_tesla1 = ElectricCar1('tesla', 'model s', 2016) \n",
    "print(my_tesla1.get_descriptive_name())"
   ]
  },
  {
   "cell_type": "code",
   "execution_count": 96,
   "metadata": {},
   "outputs": [
    {
     "name": "stdout",
     "output_type": "stream",
     "text": [
      "This car has 0 miles on it.\n"
     ]
    }
   ],
   "source": [
    "my_tesla1.read_odometer()    #read krega odometer ko"
   ]
  },
  {
   "cell_type": "code",
   "execution_count": 97,
   "metadata": {},
   "outputs": [],
   "source": [
    "my_tesla1.increment_odometer(200)     #increment krega odometer ko"
   ]
  },
  {
   "cell_type": "code",
   "execution_count": 99,
   "metadata": {},
   "outputs": [
    {
     "name": "stdout",
     "output_type": "stream",
     "text": [
      "This car has 200 miles on it.\n"
     ]
    }
   ],
   "source": [
    "my_tesla1.read_odometer()"
   ]
  },
  {
   "cell_type": "code",
   "execution_count": 103,
   "metadata": {},
   "outputs": [],
   "source": [
    "my_tesla1.update_odometer(250)         #update krdega"
   ]
  },
  {
   "cell_type": "code",
   "execution_count": 105,
   "metadata": {},
   "outputs": [],
   "source": [
    "my_tesla1.increment_odometer(5)"
   ]
  },
  {
   "cell_type": "code",
   "execution_count": 106,
   "metadata": {},
   "outputs": [
    {
     "name": "stdout",
     "output_type": "stream",
     "text": [
      "This car has 255 miles on it.\n"
     ]
    }
   ],
   "source": [
    "my_tesla1.read_odometer()"
   ]
  },
  {
   "cell_type": "code",
   "execution_count": 108,
   "metadata": {},
   "outputs": [
    {
     "name": "stdout",
     "output_type": "stream",
     "text": [
      "You can't roll back an odometer!\n"
     ]
    }
   ],
   "source": [
    "my_tesla1.update_odometer(254)"
   ]
  },
  {
   "cell_type": "markdown",
   "metadata": {},
   "source": [
    "# Defining Attributes and Methods for the child class"
   ]
  },
  {
   "cell_type": "code",
   "execution_count": 109,
   "metadata": {},
   "outputs": [],
   "source": [
    "class Car2():\n",
    "    \"\"\"A simple attempt to represent a car.\"\"\"\n",
    "    def __init__(self, make, model, year):        \n",
    "        self.make = make        \n",
    "        self.model = model        \n",
    "        self.year = year        \n",
    "        self.odometer_reading = 0            \n",
    "    def get_descriptive_name(self):        \n",
    "        long_name = str(self.year) + ' ' + self.make + ' ' + self.model        \n",
    "        return long_name.title()       \n",
    "    def read_odometer(self):        \n",
    "        print(\"This car has \" + str(self.odometer_reading) + \" miles on it.\")            \n",
    "    def update_odometer(self, mileage):        \n",
    "        if mileage >= self.odometer_reading:            \n",
    "            self.odometer_reading = mileage        \n",
    "        else:            \n",
    "            print(\"You can't roll back an odometer!\")       \n",
    "    def increment_odometer(self, miles):        \n",
    "        self.odometer_reading += miles\n"
   ]
  },
  {
   "cell_type": "code",
   "execution_count": 110,
   "metadata": {},
   "outputs": [],
   "source": [
    " class ElectricCar2(Car2):\n",
    "        def __init__(self, make, model, year):        \n",
    "            \"\"\"Initialize attributes of the parent class.\"\"\"         \n",
    "            super().__init__(make, model, year)\n",
    "            self.battery_size = 70\n",
    "        def describe_battery(self):        \n",
    "            \"\"\"Print a statement describing the battery size.\"\"\"       \n",
    "            print(\"This car has a \" + str(self.battery_size) + \"-kWh battery.\")\n"
   ]
  },
  {
   "cell_type": "code",
   "execution_count": 112,
   "metadata": {},
   "outputs": [
    {
     "name": "stdout",
     "output_type": "stream",
     "text": [
      "2016 Tesla Model S\n",
      "This car has a 70-kWh battery.\n"
     ]
    }
   ],
   "source": [
    "my_tesla2 = ElectricCar2('tesla', 'model s', 2016) \n",
    "print(my_tesla2.get_descriptive_name()) \n",
    "my_tesla2.describe_battery()"
   ]
  },
  {
   "cell_type": "markdown",
   "metadata": {},
   "source": [
    "# Overriding Methods from the Parent Class"
   ]
  },
  {
   "cell_type": "code",
   "execution_count": 114,
   "metadata": {},
   "outputs": [],
   "source": [
    "#OVERRIDING & OVERLOADING\n",
    "#overriding: kisi b 1 cheez ko modify krdena\n",
    "\n",
    "#overloading python me nhi hai\n",
    "\n",
    "class Car3():\n",
    "    \"\"\"A simple attempt to represent a car.\"\"\"\n",
    "    def __init__(self, make, model, year):        \n",
    "        self.make = make        \n",
    "        self.model = model        \n",
    "        self.year = year        \n",
    "        self.odometer_reading = 0            \n",
    "    def get_descriptive_name(self):        \n",
    "        long_name = str(self.year) + ' ' + self.make + ' ' + self.model        \n",
    "        return long_name.title()       \n",
    "    def read_odometer(self):        \n",
    "        print(\"This car has \" + str(self.odometer_reading) + \" miles on it.\")            \n",
    "    def update_odometer(self, mileage):        \n",
    "        if mileage >= self.odometer_reading:            \n",
    "            self.odometer_reading = mileage        \n",
    "        else:            \n",
    "            print(\"You can't roll back an odometer!\")       \n",
    "    def increment_odometer(self, miles):        \n",
    "        self.odometer_reading += miles\n",
    "    def fill_gas_tank():       \n",
    "        \"\"\"Electric cars don't have gas tanks.\"\"\"        \n",
    "        print(\"This car filling a gas tank!\")\n"
   ]
  },
  {
   "cell_type": "code",
   "execution_count": 118,
   "metadata": {},
   "outputs": [],
   "source": [
    " class ElectricCar3(Car3):\n",
    "        def __init__(self, make, model, year):        \n",
    "            \"\"\"Initialize attributes of the parent class.\"\"\"         \n",
    "            super().__init__(make, model, year)\n",
    "            self.battery_size = 70\n",
    "        def describe_battery(self):        \n",
    "            \"\"\"Print a statement describing the battery size.\"\"\"       \n",
    "            print(\"This car has a \" + str(self.battery_size) + \"-kWh battery.\")\n",
    "        def fill_gas_tank(self):        \n",
    "            \"\"\"Electric cars don't have gas tanks.\"\"\"        \n",
    "            print(\"This car doesn't need a gas tank!\")\n",
    "\n"
   ]
  },
  {
   "cell_type": "code",
   "execution_count": 119,
   "metadata": {},
   "outputs": [
    {
     "name": "stdout",
     "output_type": "stream",
     "text": [
      "2016 Tesla Model S\n",
      "This car has a 70-kWh battery.\n"
     ]
    }
   ],
   "source": [
    "my_tesla3 = ElectricCar3('tesla', 'model s', 2016) \n",
    "print(my_tesla2.get_descriptive_name()) \n",
    "my_tesla2.describe_battery()\n"
   ]
  },
  {
   "cell_type": "code",
   "execution_count": 120,
   "metadata": {},
   "outputs": [
    {
     "name": "stdout",
     "output_type": "stream",
     "text": [
      "This car doesn't need a gas tank!\n"
     ]
    }
   ],
   "source": [
    "my_tesla3.fill_gas_tank()"
   ]
  },
  {
   "cell_type": "code",
   "execution_count": null,
   "metadata": {},
   "outputs": [],
   "source": []
  }
 ],
 "metadata": {
  "kernelspec": {
   "display_name": "Python 3",
   "language": "python",
   "name": "python3"
  },
  "language_info": {
   "codemirror_mode": {
    "name": "ipython",
    "version": 3
   },
   "file_extension": ".py",
   "mimetype": "text/x-python",
   "name": "python",
   "nbconvert_exporter": "python",
   "pygments_lexer": "ipython3",
   "version": "3.7.6"
  }
 },
 "nbformat": 4,
 "nbformat_minor": 4
}
