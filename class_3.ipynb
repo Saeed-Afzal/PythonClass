{
 "cells": [
  {
   "cell_type": "markdown",
   "metadata": {},
   "source": [
    "#                              list                       "
   ]
  },
  {
   "cell_type": "code",
   "execution_count": null,
   "metadata": {},
   "outputs": [],
   "source": [
    "student=[\"Ali\",\"asad\",\"kamran\",\"sameer\",\"nabeel\",\"anus\",\"Qasim\"]\n"
   ]
  },
  {
   "cell_type": "code",
   "execution_count": 3,
   "metadata": {},
   "outputs": [
    {
     "name": "stdout",
     "output_type": "stream",
     "text": [
      "a\n",
      "b\n",
      "c\n",
      "d\n",
      "e\n",
      "f\n",
      "g\n",
      "h\n",
      "i\n",
      "j\n",
      "['a', 'b', 'c', 'd', 'e', 'f', 'g', 'h', 'i', 'j']\n"
     ]
    }
   ],
   "source": [
    "# inout lay kar list may data enter kea hay is may ham nay\n",
    "student=[]\n",
    "for x in range(10):\n",
    "    name=input(\"ZEnter student name:\")\n",
    "    student.append(name)\n",
    "\n",
    "print(student)\n",
    "print(\"these are my fvt students\")"
   ]
  },
  {
   "cell_type": "code",
   "execution_count": 12,
   "metadata": {},
   "outputs": [
    {
     "name": "stdout",
     "output_type": "stream",
     "text": [
      "my favourite animals  car\n",
      "my favourite animals  dog\n",
      "my favourite animals  tiger\n",
      "tiger is great between them\n",
      ".................\n",
      " i like car\n",
      " i like dog\n",
      " i like tiger\n"
     ]
    }
   ],
   "source": [
    "animal=[\"car\",\"dog\",\"tiger\"]\n",
    "an=[print(\"my favourite animals  \"+x) for x in animal]\n",
    "print(\"tiger is great between them\")\n",
    "\n",
    "print(\".................\")\n",
    "for x in range(0,len(animal)): # like c# way\n",
    "    print(f\" i like {animal[x]}\") \n",
    "\n"
   ]
  },
  {
   "cell_type": "code",
   "execution_count": 15,
   "metadata": {},
   "outputs": [
    {
     "name": "stdout",
     "output_type": "stream",
     "text": [
      "even\n",
      "0 2 4 6 8 10 odd\n",
      "1 3 5 7 9 "
     ]
    }
   ],
   "source": [
    "print(\"even\")\n",
    "even=[print(x,end=\" \") for x in range(0,11,2)]\n",
    "\n",
    "print(\"odd\")\n",
    "odd=[print(x,end=\" \") for x in range(1,10,2)]\n"
   ]
  },
  {
   "cell_type": "code",
   "execution_count": 19,
   "metadata": {},
   "outputs": [
    {
     "name": "stdout",
     "output_type": "stream",
     "text": [
      "EVEN\n",
      "[2, 4, 6, 8, 10]\n",
      "ODD\n",
      "[1, 3, 5, 7, 9]\n"
     ]
    }
   ],
   "source": [
    "# even nd odd with there seprate list\n",
    "even=[]\n",
    "odd=[]\n",
    "for x in range(1,11):\n",
    "    if x %2 == 0:\n",
    "        even.append(x)\n",
    "    else:\n",
    "        odd.append(x)\n",
    "print(\"EVEN\")\n",
    "print(even)\n",
    "print(\"ODD\")\n",
    "print(odd)"
   ]
  },
  {
   "cell_type": "code",
   "execution_count": 25,
   "metadata": {},
   "outputs": [
    {
     "name": "stdout",
     "output_type": "stream",
     "text": [
      "enter nameali\n",
      "True\n",
      "found\n",
      "enter nameasad\n",
      "True\n",
      "found and name is asad\n"
     ]
    }
   ],
   "source": [
    "# emp ki list banao or input check kro k ya hay ya ni hay\n",
    "\n",
    "employes=[\"ali\",\"asad\",\"kamran\"]\n",
    "name=input(\"enter name\")\n",
    "condition = name in employes\n",
    "print(condition)\n",
    "if condition:\n",
    "    print(\"found\")\n",
    "else:\n",
    "    print(\"not found\")\n",
    "#or short way\n",
    "\n",
    "employes=[\"ali\",\"asad\",\"kamran\"]\n",
    "name=input(\"enter name\")\n",
    "\n",
    "print(condition)\n",
    "if name in employes:\n",
    "    print(f\"found and name is {name}\")\n",
    "else:\n",
    "    print(\"not found\")"
   ]
  },
  {
   "cell_type": "markdown",
   "metadata": {},
   "source": [
    "# if else condition\n"
   ]
  },
  {
   "cell_type": "code",
   "execution_count": 26,
   "metadata": {},
   "outputs": [
    {
     "name": "stdout",
     "output_type": "stream",
     "text": [
      "Adding mushrooms.\n",
      "Sorry, we don't have french fries.\n",
      "Adding extra cheese.\n"
     ]
    }
   ],
   "source": [
    "available_toppings = ['mushrooms', 'olives', 'green peppers','pepperoni', 'pineapple', 'extra cheese']\n",
    "requested_toppings = ['mushrooms', 'french fries', 'extra cheese']\n",
    "for requested_topping in requested_toppings:\n",
    "    if requested_topping in available_toppings:\n",
    "        print(\"Adding \" + requested_topping + \".\")      \n",
    "    else:\n",
    "        print(\"Sorry, we don't have \" + requested_topping + \".\")"
   ]
  },
  {
   "cell_type": "code",
   "execution_count": 27,
   "metadata": {},
   "outputs": [
    {
     "name": "stdout",
     "output_type": "stream",
     "text": [
      "enter employee namea\n",
      "enter employee nameb\n",
      "enter employee namea\n",
      "alert name exist\n",
      "enter employee namec\n",
      "enter employee named\n"
     ]
    }
   ],
   "source": [
    "# employe agr exist krta ho to alert ae ni to ni ae ga allert or list may add ho jae gAER4\n",
    "employees=[]\n",
    "for employe in range(5):\n",
    "    employee_name=input(\"enter employee name\")\n",
    "    if employee_name not in employees:\n",
    "        employees.append(employee_name)\n",
    "    else:\n",
    "        print(\"alert name exist\")\n"
   ]
  },
  {
   "cell_type": "code",
   "execution_count": 30,
   "metadata": {},
   "outputs": [
    {
     "name": "stdout",
     "output_type": "stream",
     "text": [
      "enter employee namea\n",
      "enter employee namef\n",
      "enter employee namea\n",
      "enter employee nameg\n",
      "enter employee namej\n",
      "['a', 'f', 'g', 'j']\n"
     ]
    }
   ],
   "source": [
    "# list may 5 he nam enter ho\n",
    "employees=[]\n",
    "i=5\n",
    "for employe in range(0,i):\n",
    "    employee_name=input(\"enter employee name\")\n",
    "    if employee_name not in employees:\n",
    "        employees.append(employee_name)\n",
    "    else:\n",
    "        i=i+1\n",
    "print(employees)"
   ]
  },
  {
   "cell_type": "code",
   "execution_count": null,
   "metadata": {},
   "outputs": [],
   "source": []
  }
 ],
 "metadata": {
  "kernelspec": {
   "display_name": "Python 3",
   "language": "python",
   "name": "python3"
  },
  "language_info": {
   "codemirror_mode": {
    "name": "ipython",
    "version": 3
   },
   "file_extension": ".py",
   "mimetype": "text/x-python",
   "name": "python",
   "nbconvert_exporter": "python",
   "pygments_lexer": "ipython3",
   "version": "3.8.5"
  }
 },
 "nbformat": 4,
 "nbformat_minor": 4
}
